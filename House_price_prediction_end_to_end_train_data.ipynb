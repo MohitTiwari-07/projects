{
 "cells": [
  {
   "cell_type": "markdown",
   "metadata": {},
   "source": [
    "Info for area type: carpet_area < built up area < super built up area\n",
    "\n",
    "Plot area is the area for which the plot is given and not comparable with the above 3"
   ]
  },
  {
   "cell_type": "code",
   "execution_count": 1,
   "metadata": {},
   "outputs": [],
   "source": [
    "import pandas as pd\n",
    "import numpy as np\n",
    "import matplotlib.pyplot as plt\n",
    "import matplotlib\n",
    "\n",
    "#Display all the coloumns of the dataframe\n",
    "pd.pandas.set_option('display.max_columns', None)"
   ]
  },
  {
   "cell_type": "code",
   "execution_count": 2,
   "metadata": {},
   "outputs": [
    {
     "data": {
      "text/plain": [
       "(13320, 9)"
      ]
     },
     "execution_count": 2,
     "metadata": {},
     "output_type": "execute_result"
    }
   ],
   "source": [
    "dataset = pd.read_csv('dataset.csv')\n",
    "dataset.shape"
   ]
  },
  {
   "cell_type": "code",
   "execution_count": 3,
   "metadata": {},
   "outputs": [
    {
     "data": {
      "text/html": [
       "<div>\n",
       "<style scoped>\n",
       "    .dataframe tbody tr th:only-of-type {\n",
       "        vertical-align: middle;\n",
       "    }\n",
       "\n",
       "    .dataframe tbody tr th {\n",
       "        vertical-align: top;\n",
       "    }\n",
       "\n",
       "    .dataframe thead th {\n",
       "        text-align: right;\n",
       "    }\n",
       "</style>\n",
       "<table border=\"1\" class=\"dataframe\">\n",
       "  <thead>\n",
       "    <tr style=\"text-align: right;\">\n",
       "      <th></th>\n",
       "      <th>area_type</th>\n",
       "      <th>availability</th>\n",
       "      <th>location</th>\n",
       "      <th>size</th>\n",
       "      <th>society</th>\n",
       "      <th>total_sqft</th>\n",
       "      <th>bath</th>\n",
       "      <th>balcony</th>\n",
       "      <th>price</th>\n",
       "    </tr>\n",
       "  </thead>\n",
       "  <tbody>\n",
       "    <tr>\n",
       "      <th>0</th>\n",
       "      <td>Super built-up  Area</td>\n",
       "      <td>19-Dec</td>\n",
       "      <td>Electronic City Phase II</td>\n",
       "      <td>2 BHK</td>\n",
       "      <td>Coomee</td>\n",
       "      <td>1056</td>\n",
       "      <td>2.0</td>\n",
       "      <td>1.0</td>\n",
       "      <td>39.07</td>\n",
       "    </tr>\n",
       "    <tr>\n",
       "      <th>1</th>\n",
       "      <td>Plot  Area</td>\n",
       "      <td>Ready To Move</td>\n",
       "      <td>Chikka Tirupathi</td>\n",
       "      <td>4 Bedroom</td>\n",
       "      <td>Theanmp</td>\n",
       "      <td>2600</td>\n",
       "      <td>5.0</td>\n",
       "      <td>3.0</td>\n",
       "      <td>120.00</td>\n",
       "    </tr>\n",
       "    <tr>\n",
       "      <th>2</th>\n",
       "      <td>Built-up  Area</td>\n",
       "      <td>Ready To Move</td>\n",
       "      <td>Uttarahalli</td>\n",
       "      <td>3 BHK</td>\n",
       "      <td>NaN</td>\n",
       "      <td>1440</td>\n",
       "      <td>2.0</td>\n",
       "      <td>3.0</td>\n",
       "      <td>62.00</td>\n",
       "    </tr>\n",
       "    <tr>\n",
       "      <th>3</th>\n",
       "      <td>Super built-up  Area</td>\n",
       "      <td>Ready To Move</td>\n",
       "      <td>Lingadheeranahalli</td>\n",
       "      <td>3 BHK</td>\n",
       "      <td>Soiewre</td>\n",
       "      <td>1521</td>\n",
       "      <td>3.0</td>\n",
       "      <td>1.0</td>\n",
       "      <td>95.00</td>\n",
       "    </tr>\n",
       "    <tr>\n",
       "      <th>4</th>\n",
       "      <td>Super built-up  Area</td>\n",
       "      <td>Ready To Move</td>\n",
       "      <td>Kothanur</td>\n",
       "      <td>2 BHK</td>\n",
       "      <td>NaN</td>\n",
       "      <td>1200</td>\n",
       "      <td>2.0</td>\n",
       "      <td>1.0</td>\n",
       "      <td>51.00</td>\n",
       "    </tr>\n",
       "  </tbody>\n",
       "</table>\n",
       "</div>"
      ],
      "text/plain": [
       "              area_type   availability                  location       size  \\\n",
       "0  Super built-up  Area         19-Dec  Electronic City Phase II      2 BHK   \n",
       "1            Plot  Area  Ready To Move          Chikka Tirupathi  4 Bedroom   \n",
       "2        Built-up  Area  Ready To Move               Uttarahalli      3 BHK   \n",
       "3  Super built-up  Area  Ready To Move        Lingadheeranahalli      3 BHK   \n",
       "4  Super built-up  Area  Ready To Move                  Kothanur      2 BHK   \n",
       "\n",
       "   society total_sqft  bath  balcony   price  \n",
       "0  Coomee        1056   2.0      1.0   39.07  \n",
       "1  Theanmp       2600   5.0      3.0  120.00  \n",
       "2      NaN       1440   2.0      3.0   62.00  \n",
       "3  Soiewre       1521   3.0      1.0   95.00  \n",
       "4      NaN       1200   2.0      1.0   51.00  "
      ]
     },
     "execution_count": 3,
     "metadata": {},
     "output_type": "execute_result"
    }
   ],
   "source": [
    "dataset.head()"
   ]
  },
  {
   "cell_type": "code",
   "execution_count": 4,
   "metadata": {},
   "outputs": [
    {
     "data": {
      "text/html": [
       "<div>\n",
       "<style scoped>\n",
       "    .dataframe tbody tr th:only-of-type {\n",
       "        vertical-align: middle;\n",
       "    }\n",
       "\n",
       "    .dataframe tbody tr th {\n",
       "        vertical-align: top;\n",
       "    }\n",
       "\n",
       "    .dataframe thead th {\n",
       "        text-align: right;\n",
       "    }\n",
       "</style>\n",
       "<table border=\"1\" class=\"dataframe\">\n",
       "  <thead>\n",
       "    <tr style=\"text-align: right;\">\n",
       "      <th></th>\n",
       "      <th>area_type</th>\n",
       "      <th>location</th>\n",
       "      <th>size</th>\n",
       "      <th>total_sqft</th>\n",
       "      <th>bath</th>\n",
       "      <th>balcony</th>\n",
       "      <th>price</th>\n",
       "    </tr>\n",
       "  </thead>\n",
       "  <tbody>\n",
       "    <tr>\n",
       "      <th>0</th>\n",
       "      <td>Super built-up  Area</td>\n",
       "      <td>Electronic City Phase II</td>\n",
       "      <td>2 BHK</td>\n",
       "      <td>1056</td>\n",
       "      <td>2.0</td>\n",
       "      <td>1.0</td>\n",
       "      <td>39.07</td>\n",
       "    </tr>\n",
       "    <tr>\n",
       "      <th>1</th>\n",
       "      <td>Plot  Area</td>\n",
       "      <td>Chikka Tirupathi</td>\n",
       "      <td>4 Bedroom</td>\n",
       "      <td>2600</td>\n",
       "      <td>5.0</td>\n",
       "      <td>3.0</td>\n",
       "      <td>120.00</td>\n",
       "    </tr>\n",
       "    <tr>\n",
       "      <th>2</th>\n",
       "      <td>Built-up  Area</td>\n",
       "      <td>Uttarahalli</td>\n",
       "      <td>3 BHK</td>\n",
       "      <td>1440</td>\n",
       "      <td>2.0</td>\n",
       "      <td>3.0</td>\n",
       "      <td>62.00</td>\n",
       "    </tr>\n",
       "    <tr>\n",
       "      <th>3</th>\n",
       "      <td>Super built-up  Area</td>\n",
       "      <td>Lingadheeranahalli</td>\n",
       "      <td>3 BHK</td>\n",
       "      <td>1521</td>\n",
       "      <td>3.0</td>\n",
       "      <td>1.0</td>\n",
       "      <td>95.00</td>\n",
       "    </tr>\n",
       "    <tr>\n",
       "      <th>4</th>\n",
       "      <td>Super built-up  Area</td>\n",
       "      <td>Kothanur</td>\n",
       "      <td>2 BHK</td>\n",
       "      <td>1200</td>\n",
       "      <td>2.0</td>\n",
       "      <td>1.0</td>\n",
       "      <td>51.00</td>\n",
       "    </tr>\n",
       "  </tbody>\n",
       "</table>\n",
       "</div>"
      ],
      "text/plain": [
       "              area_type                  location       size total_sqft  bath  \\\n",
       "0  Super built-up  Area  Electronic City Phase II      2 BHK       1056   2.0   \n",
       "1            Plot  Area          Chikka Tirupathi  4 Bedroom       2600   5.0   \n",
       "2        Built-up  Area               Uttarahalli      3 BHK       1440   2.0   \n",
       "3  Super built-up  Area        Lingadheeranahalli      3 BHK       1521   3.0   \n",
       "4  Super built-up  Area                  Kothanur      2 BHK       1200   2.0   \n",
       "\n",
       "   balcony   price  \n",
       "0      1.0   39.07  \n",
       "1      3.0  120.00  \n",
       "2      3.0   62.00  \n",
       "3      1.0   95.00  \n",
       "4      1.0   51.00  "
      ]
     },
     "execution_count": 4,
     "metadata": {},
     "output_type": "execute_result"
    }
   ],
   "source": [
    "#We can remove availability since generally it should not affect the selling price.\n",
    "#also finally when we will build the app, there we if we keep availability, we have to select from many options as\n",
    "#availability can be any day in a year, so better drop this column\n",
    "dataset = dataset.drop(['availability', 'society'], axis = 'columns')\n",
    "dataset.head()"
   ]
  },
  {
   "cell_type": "code",
   "execution_count": 5,
   "metadata": {},
   "outputs": [
    {
     "name": "stdout",
     "output_type": "stream",
     "text": [
      "<class 'pandas.core.frame.DataFrame'>\n",
      "RangeIndex: 13320 entries, 0 to 13319\n",
      "Data columns (total 7 columns):\n",
      " #   Column      Non-Null Count  Dtype  \n",
      "---  ------      --------------  -----  \n",
      " 0   area_type   13320 non-null  object \n",
      " 1   location    13319 non-null  object \n",
      " 2   size        13304 non-null  object \n",
      " 3   total_sqft  13320 non-null  object \n",
      " 4   bath        13247 non-null  float64\n",
      " 5   balcony     12711 non-null  float64\n",
      " 6   price       13320 non-null  float64\n",
      "dtypes: float64(3), object(4)\n",
      "memory usage: 728.6+ KB\n"
     ]
    }
   ],
   "source": [
    "dataset.info()"
   ]
  },
  {
   "cell_type": "markdown",
   "metadata": {},
   "source": [
    "if we see the dataset info, there are 3 features with dtype as float64 and 6 features with dtype as object\n",
    "The features with dtype as object are called categorical features, and other features are numerical features"
   ]
  },
  {
   "cell_type": "code",
   "execution_count": 6,
   "metadata": {},
   "outputs": [
    {
     "data": {
      "text/plain": [
       "area_type       0\n",
       "location        1\n",
       "size           16\n",
       "total_sqft      0\n",
       "bath           73\n",
       "balcony       609\n",
       "price           0\n",
       "dtype: int64"
      ]
     },
     "execution_count": 6,
     "metadata": {},
     "output_type": "execute_result"
    }
   ],
   "source": [
    "#1st step is to replace the null values\n",
    "#Find the no. of null values for each feature \n",
    "dataset.isnull().sum()"
   ]
  },
  {
   "cell_type": "code",
   "execution_count": 7,
   "metadata": {},
   "outputs": [
    {
     "data": {
      "text/plain": [
       "['bath', 'balcony', 'price']"
      ]
     },
     "execution_count": 7,
     "metadata": {},
     "output_type": "execute_result"
    }
   ],
   "source": [
    "#1st find all the numerical features\n",
    "numerical_features = [feature for feature in dataset.columns if dataset[feature].dtype != 'O']\n",
    "numerical_features"
   ]
  },
  {
   "cell_type": "code",
   "execution_count": 8,
   "metadata": {},
   "outputs": [
    {
     "data": {
      "text/plain": [
       "bath        73\n",
       "balcony    609\n",
       "price        0\n",
       "dtype: int64"
      ]
     },
     "execution_count": 8,
     "metadata": {},
     "output_type": "execute_result"
    }
   ],
   "source": [
    "dataset[numerical_features].isnull().sum()"
   ]
  },
  {
   "cell_type": "code",
   "execution_count": 9,
   "metadata": {},
   "outputs": [
    {
     "data": {
      "text/plain": [
       "bath       0\n",
       "balcony    0\n",
       "price      0\n",
       "dtype: int64"
      ]
     },
     "execution_count": 9,
     "metadata": {},
     "output_type": "execute_result"
    }
   ],
   "source": [
    "#We will drop a column only if the number of null values are more than 50% of total no. of records(i.e 13320)\n",
    "#So, we aren't dropping any numerical feature\n",
    "#Replace the numerical features with mean\n",
    "for feature in numerical_features:\n",
    "    dataset[feature] = dataset[feature].fillna(dataset[feature].mean())\n",
    "    \n",
    "dataset[numerical_features].isnull().sum()"
   ]
  },
  {
   "cell_type": "code",
   "execution_count": 10,
   "metadata": {},
   "outputs": [
    {
     "data": {
      "text/plain": [
       "['area_type', 'location', 'size', 'total_sqft']"
      ]
     },
     "execution_count": 10,
     "metadata": {},
     "output_type": "execute_result"
    }
   ],
   "source": [
    "#Now find all the categorical features\n",
    "categorical_features = [feature for feature in dataset.columns if dataset[feature].dtype == 'O']\n",
    "categorical_features"
   ]
  },
  {
   "cell_type": "code",
   "execution_count": 11,
   "metadata": {},
   "outputs": [
    {
     "data": {
      "text/plain": [
       "area_type      0\n",
       "location       1\n",
       "size          16\n",
       "total_sqft     0\n",
       "dtype: int64"
      ]
     },
     "execution_count": 11,
     "metadata": {},
     "output_type": "execute_result"
    }
   ],
   "source": [
    "dataset[categorical_features].isnull().sum()"
   ]
  },
  {
   "cell_type": "code",
   "execution_count": 12,
   "metadata": {},
   "outputs": [
    {
     "data": {
      "text/plain": [
       "area_type     0\n",
       "location      0\n",
       "size          0\n",
       "total_sqft    0\n",
       "dtype: int64"
      ]
     },
     "execution_count": 12,
     "metadata": {},
     "output_type": "execute_result"
    }
   ],
   "source": [
    "#Since none of the features have null value more than 50%, we will not drop any feature\n",
    "#Replace all the missing values of categorical features with mode\n",
    "for feature in categorical_features:\n",
    "    dataset[feature] = dataset[feature].fillna(dataset[feature].mode()[0])\n",
    "    \n",
    "dataset[categorical_features].isnull().sum()"
   ]
  },
  {
   "cell_type": "code",
   "execution_count": 13,
   "metadata": {},
   "outputs": [
    {
     "data": {
      "text/plain": [
       "array(['Super built-up  Area', 'Plot  Area', 'Built-up  Area',\n",
       "       'Carpet  Area'], dtype=object)"
      ]
     },
     "execution_count": 13,
     "metadata": {},
     "output_type": "execute_result"
    }
   ],
   "source": [
    "#Handle categorical features\n",
    "#check whether any redundant categories are there or not(like 2 BHK and 2 bedroom are same and we can consider it \n",
    "#as one category)\n",
    "dataset['area_type'].unique()"
   ]
  },
  {
   "cell_type": "markdown",
   "metadata": {},
   "source": [
    "For area_type, no categories are redundant , so its fine"
   ]
  },
  {
   "cell_type": "code",
   "execution_count": 14,
   "metadata": {},
   "outputs": [
    {
     "data": {
      "text/plain": [
       "array(['Electronic City Phase II', 'Chikka Tirupathi', 'Uttarahalli', ...,\n",
       "       '12th cross srinivas nagar banshankari 3rd stage',\n",
       "       'Havanur extension', 'Abshot Layout'], dtype=object)"
      ]
     },
     "execution_count": 14,
     "metadata": {},
     "output_type": "execute_result"
    }
   ],
   "source": [
    "dataset['location'].unique()"
   ]
  },
  {
   "cell_type": "markdown",
   "metadata": {},
   "source": [
    "Some location might have abbreviations, not sure but overall looks like no redudant categories are there, so its fine"
   ]
  },
  {
   "cell_type": "code",
   "execution_count": 15,
   "metadata": {},
   "outputs": [],
   "source": [
    "#Here we can see redundant categories like 2BHK and 2 bedroom, 4 BHK and 4 bedroom etc\n",
    "#So, we can create a new column  which will not have these redundant categories for size\n",
    "#size categories are 2 BHK, 2 bedroom, 3 BHK etc, so better to keep only 1st number i.e 2, 3 ,4 etc as no. of BHK\n",
    "def consider_only_bhk_number(x):\n",
    "    token = x.split(\" \")\n",
    "    try:\n",
    "        return float(token[0])\n",
    "    except:\n",
    "        return None\n",
    "    "
   ]
  },
  {
   "cell_type": "code",
   "execution_count": 16,
   "metadata": {},
   "outputs": [
    {
     "data": {
      "text/html": [
       "<div>\n",
       "<style scoped>\n",
       "    .dataframe tbody tr th:only-of-type {\n",
       "        vertical-align: middle;\n",
       "    }\n",
       "\n",
       "    .dataframe tbody tr th {\n",
       "        vertical-align: top;\n",
       "    }\n",
       "\n",
       "    .dataframe thead th {\n",
       "        text-align: right;\n",
       "    }\n",
       "</style>\n",
       "<table border=\"1\" class=\"dataframe\">\n",
       "  <thead>\n",
       "    <tr style=\"text-align: right;\">\n",
       "      <th></th>\n",
       "      <th>area_type</th>\n",
       "      <th>location</th>\n",
       "      <th>size</th>\n",
       "      <th>total_sqft</th>\n",
       "      <th>bath</th>\n",
       "      <th>balcony</th>\n",
       "      <th>price</th>\n",
       "    </tr>\n",
       "  </thead>\n",
       "  <tbody>\n",
       "    <tr>\n",
       "      <th>0</th>\n",
       "      <td>Super built-up  Area</td>\n",
       "      <td>Electronic City Phase II</td>\n",
       "      <td>2.0</td>\n",
       "      <td>1056</td>\n",
       "      <td>2.0</td>\n",
       "      <td>1.000000</td>\n",
       "      <td>39.07</td>\n",
       "    </tr>\n",
       "    <tr>\n",
       "      <th>1</th>\n",
       "      <td>Plot  Area</td>\n",
       "      <td>Chikka Tirupathi</td>\n",
       "      <td>4.0</td>\n",
       "      <td>2600</td>\n",
       "      <td>5.0</td>\n",
       "      <td>3.000000</td>\n",
       "      <td>120.00</td>\n",
       "    </tr>\n",
       "    <tr>\n",
       "      <th>2</th>\n",
       "      <td>Built-up  Area</td>\n",
       "      <td>Uttarahalli</td>\n",
       "      <td>3.0</td>\n",
       "      <td>1440</td>\n",
       "      <td>2.0</td>\n",
       "      <td>3.000000</td>\n",
       "      <td>62.00</td>\n",
       "    </tr>\n",
       "    <tr>\n",
       "      <th>3</th>\n",
       "      <td>Super built-up  Area</td>\n",
       "      <td>Lingadheeranahalli</td>\n",
       "      <td>3.0</td>\n",
       "      <td>1521</td>\n",
       "      <td>3.0</td>\n",
       "      <td>1.000000</td>\n",
       "      <td>95.00</td>\n",
       "    </tr>\n",
       "    <tr>\n",
       "      <th>4</th>\n",
       "      <td>Super built-up  Area</td>\n",
       "      <td>Kothanur</td>\n",
       "      <td>2.0</td>\n",
       "      <td>1200</td>\n",
       "      <td>2.0</td>\n",
       "      <td>1.000000</td>\n",
       "      <td>51.00</td>\n",
       "    </tr>\n",
       "    <tr>\n",
       "      <th>5</th>\n",
       "      <td>Super built-up  Area</td>\n",
       "      <td>Whitefield</td>\n",
       "      <td>2.0</td>\n",
       "      <td>1170</td>\n",
       "      <td>2.0</td>\n",
       "      <td>1.000000</td>\n",
       "      <td>38.00</td>\n",
       "    </tr>\n",
       "    <tr>\n",
       "      <th>6</th>\n",
       "      <td>Super built-up  Area</td>\n",
       "      <td>Old Airport Road</td>\n",
       "      <td>4.0</td>\n",
       "      <td>2732</td>\n",
       "      <td>4.0</td>\n",
       "      <td>1.584376</td>\n",
       "      <td>204.00</td>\n",
       "    </tr>\n",
       "    <tr>\n",
       "      <th>7</th>\n",
       "      <td>Super built-up  Area</td>\n",
       "      <td>Rajaji Nagar</td>\n",
       "      <td>4.0</td>\n",
       "      <td>3300</td>\n",
       "      <td>4.0</td>\n",
       "      <td>1.584376</td>\n",
       "      <td>600.00</td>\n",
       "    </tr>\n",
       "    <tr>\n",
       "      <th>8</th>\n",
       "      <td>Super built-up  Area</td>\n",
       "      <td>Marathahalli</td>\n",
       "      <td>3.0</td>\n",
       "      <td>1310</td>\n",
       "      <td>3.0</td>\n",
       "      <td>1.000000</td>\n",
       "      <td>63.25</td>\n",
       "    </tr>\n",
       "    <tr>\n",
       "      <th>9</th>\n",
       "      <td>Plot  Area</td>\n",
       "      <td>Gandhi Bazar</td>\n",
       "      <td>6.0</td>\n",
       "      <td>1020</td>\n",
       "      <td>6.0</td>\n",
       "      <td>1.584376</td>\n",
       "      <td>370.00</td>\n",
       "    </tr>\n",
       "  </tbody>\n",
       "</table>\n",
       "</div>"
      ],
      "text/plain": [
       "              area_type                  location  size total_sqft  bath  \\\n",
       "0  Super built-up  Area  Electronic City Phase II   2.0       1056   2.0   \n",
       "1            Plot  Area          Chikka Tirupathi   4.0       2600   5.0   \n",
       "2        Built-up  Area               Uttarahalli   3.0       1440   2.0   \n",
       "3  Super built-up  Area        Lingadheeranahalli   3.0       1521   3.0   \n",
       "4  Super built-up  Area                  Kothanur   2.0       1200   2.0   \n",
       "5  Super built-up  Area                Whitefield   2.0       1170   2.0   \n",
       "6  Super built-up  Area          Old Airport Road   4.0       2732   4.0   \n",
       "7  Super built-up  Area              Rajaji Nagar   4.0       3300   4.0   \n",
       "8  Super built-up  Area              Marathahalli   3.0       1310   3.0   \n",
       "9            Plot  Area              Gandhi Bazar   6.0       1020   6.0   \n",
       "\n",
       "    balcony   price  \n",
       "0  1.000000   39.07  \n",
       "1  3.000000  120.00  \n",
       "2  3.000000   62.00  \n",
       "3  1.000000   95.00  \n",
       "4  1.000000   51.00  \n",
       "5  1.000000   38.00  \n",
       "6  1.584376  204.00  \n",
       "7  1.584376  600.00  \n",
       "8  1.000000   63.25  \n",
       "9  1.584376  370.00  "
      ]
     },
     "execution_count": 16,
     "metadata": {},
     "output_type": "execute_result"
    }
   ],
   "source": [
    "df1 = dataset.copy()\n",
    "#Here in consider_only_bhk_number(x), x will be a single value under this feature, here a single 'size'\n",
    "df1['size'] = df1['size'].apply(consider_only_bhk_number)\n",
    "df1.head(10)"
   ]
  },
  {
   "cell_type": "code",
   "execution_count": 17,
   "metadata": {},
   "outputs": [
    {
     "data": {
      "text/plain": [
       "array(['1056', '2600', '1440', ..., '1133 - 1384', '774', '4689'],\n",
       "      dtype=object)"
      ]
     },
     "execution_count": 17,
     "metadata": {},
     "output_type": "execute_result"
    }
   ],
   "source": [
    "#Now we have total_sqft. It is a number but it is still a categorical data type. We need to convert it to float\n",
    "#1st lets check for redundant values\n",
    "df1['total_sqft'].unique()"
   ]
  },
  {
   "cell_type": "code",
   "execution_count": 18,
   "metadata": {},
   "outputs": [],
   "source": [
    "#for range x1-x2, we will split on the basis of - and then take average of x1 and x2.\n",
    "#if there are other values apart from range, we will simply return float of it , else none\n",
    "def convert_range_to_float(x):\n",
    "    tokens = x.split(\"-\")\n",
    "    if len(tokens) == 2:\n",
    "        return (float(tokens[0]) + float(tokens[1]))/2\n",
    "    try:\n",
    "        return float(x)\n",
    "    except:\n",
    "        return None\n",
    "    "
   ]
  },
  {
   "cell_type": "code",
   "execution_count": 19,
   "metadata": {},
   "outputs": [
    {
     "data": {
      "text/plain": [
       "3.5"
      ]
     },
     "execution_count": 19,
     "metadata": {},
     "output_type": "execute_result"
    }
   ],
   "source": [
    "convert_range_to_float('3 - 4')"
   ]
  },
  {
   "cell_type": "code",
   "execution_count": 20,
   "metadata": {},
   "outputs": [],
   "source": [
    "#Return None for this\n",
    "convert_range_to_float('34.46Sq. Meter')"
   ]
  },
  {
   "cell_type": "code",
   "execution_count": 21,
   "metadata": {},
   "outputs": [
    {
     "data": {
      "text/html": [
       "<div>\n",
       "<style scoped>\n",
       "    .dataframe tbody tr th:only-of-type {\n",
       "        vertical-align: middle;\n",
       "    }\n",
       "\n",
       "    .dataframe tbody tr th {\n",
       "        vertical-align: top;\n",
       "    }\n",
       "\n",
       "    .dataframe thead th {\n",
       "        text-align: right;\n",
       "    }\n",
       "</style>\n",
       "<table border=\"1\" class=\"dataframe\">\n",
       "  <thead>\n",
       "    <tr style=\"text-align: right;\">\n",
       "      <th></th>\n",
       "      <th>area_type</th>\n",
       "      <th>location</th>\n",
       "      <th>size</th>\n",
       "      <th>total_sqft</th>\n",
       "      <th>bath</th>\n",
       "      <th>balcony</th>\n",
       "      <th>price</th>\n",
       "    </tr>\n",
       "  </thead>\n",
       "  <tbody>\n",
       "    <tr>\n",
       "      <th>0</th>\n",
       "      <td>Super built-up  Area</td>\n",
       "      <td>Electronic City Phase II</td>\n",
       "      <td>2.0</td>\n",
       "      <td>1056.0</td>\n",
       "      <td>2.0</td>\n",
       "      <td>1.0</td>\n",
       "      <td>39.07</td>\n",
       "    </tr>\n",
       "    <tr>\n",
       "      <th>1</th>\n",
       "      <td>Plot  Area</td>\n",
       "      <td>Chikka Tirupathi</td>\n",
       "      <td>4.0</td>\n",
       "      <td>2600.0</td>\n",
       "      <td>5.0</td>\n",
       "      <td>3.0</td>\n",
       "      <td>120.00</td>\n",
       "    </tr>\n",
       "    <tr>\n",
       "      <th>2</th>\n",
       "      <td>Built-up  Area</td>\n",
       "      <td>Uttarahalli</td>\n",
       "      <td>3.0</td>\n",
       "      <td>1440.0</td>\n",
       "      <td>2.0</td>\n",
       "      <td>3.0</td>\n",
       "      <td>62.00</td>\n",
       "    </tr>\n",
       "    <tr>\n",
       "      <th>3</th>\n",
       "      <td>Super built-up  Area</td>\n",
       "      <td>Lingadheeranahalli</td>\n",
       "      <td>3.0</td>\n",
       "      <td>1521.0</td>\n",
       "      <td>3.0</td>\n",
       "      <td>1.0</td>\n",
       "      <td>95.00</td>\n",
       "    </tr>\n",
       "    <tr>\n",
       "      <th>4</th>\n",
       "      <td>Super built-up  Area</td>\n",
       "      <td>Kothanur</td>\n",
       "      <td>2.0</td>\n",
       "      <td>1200.0</td>\n",
       "      <td>2.0</td>\n",
       "      <td>1.0</td>\n",
       "      <td>51.00</td>\n",
       "    </tr>\n",
       "  </tbody>\n",
       "</table>\n",
       "</div>"
      ],
      "text/plain": [
       "              area_type                  location  size  total_sqft  bath  \\\n",
       "0  Super built-up  Area  Electronic City Phase II   2.0      1056.0   2.0   \n",
       "1            Plot  Area          Chikka Tirupathi   4.0      2600.0   5.0   \n",
       "2        Built-up  Area               Uttarahalli   3.0      1440.0   2.0   \n",
       "3  Super built-up  Area        Lingadheeranahalli   3.0      1521.0   3.0   \n",
       "4  Super built-up  Area                  Kothanur   2.0      1200.0   2.0   \n",
       "\n",
       "   balcony   price  \n",
       "0      1.0   39.07  \n",
       "1      3.0  120.00  \n",
       "2      3.0   62.00  \n",
       "3      1.0   95.00  \n",
       "4      1.0   51.00  "
      ]
     },
     "execution_count": 21,
     "metadata": {},
     "output_type": "execute_result"
    }
   ],
   "source": [
    "df1['total_sqft'] = df1['total_sqft'].apply(convert_range_to_float)\n",
    "df1.head()"
   ]
  },
  {
   "cell_type": "code",
   "execution_count": 22,
   "metadata": {},
   "outputs": [
    {
     "data": {
      "text/plain": [
       "area_type      0\n",
       "location       0\n",
       "size           0\n",
       "total_sqft    46\n",
       "bath           0\n",
       "balcony        0\n",
       "price          0\n",
       "dtype: int64"
      ]
     },
     "execution_count": 22,
     "metadata": {},
     "output_type": "execute_result"
    }
   ],
   "source": [
    "df1.isnull().sum()"
   ]
  },
  {
   "cell_type": "code",
   "execution_count": 23,
   "metadata": {},
   "outputs": [],
   "source": [
    "#remove null values. this null values are for total_sqft like 34.46Sq. Meter, for which convert_range_to_float func \n",
    "#returns Null. replace this null values with mean\n",
    "df1['total_sqft'] = df1['total_sqft'].fillna(df1['total_sqft'].mean())"
   ]
  },
  {
   "cell_type": "code",
   "execution_count": 24,
   "metadata": {},
   "outputs": [
    {
     "data": {
      "text/plain": [
       "area_type     0\n",
       "location      0\n",
       "size          0\n",
       "total_sqft    0\n",
       "bath          0\n",
       "balcony       0\n",
       "price         0\n",
       "dtype: int64"
      ]
     },
     "execution_count": 24,
     "metadata": {},
     "output_type": "execute_result"
    }
   ],
   "source": [
    "df1.isnull().sum()"
   ]
  },
  {
   "cell_type": "code",
   "execution_count": 25,
   "metadata": {},
   "outputs": [
    {
     "data": {
      "text/html": [
       "<div>\n",
       "<style scoped>\n",
       "    .dataframe tbody tr th:only-of-type {\n",
       "        vertical-align: middle;\n",
       "    }\n",
       "\n",
       "    .dataframe tbody tr th {\n",
       "        vertical-align: top;\n",
       "    }\n",
       "\n",
       "    .dataframe thead th {\n",
       "        text-align: right;\n",
       "    }\n",
       "</style>\n",
       "<table border=\"1\" class=\"dataframe\">\n",
       "  <thead>\n",
       "    <tr style=\"text-align: right;\">\n",
       "      <th></th>\n",
       "      <th>area_type</th>\n",
       "      <th>location</th>\n",
       "      <th>size</th>\n",
       "      <th>total_sqft</th>\n",
       "      <th>bath</th>\n",
       "      <th>balcony</th>\n",
       "      <th>price</th>\n",
       "      <th>price per sqft</th>\n",
       "    </tr>\n",
       "  </thead>\n",
       "  <tbody>\n",
       "    <tr>\n",
       "      <th>0</th>\n",
       "      <td>Super built-up  Area</td>\n",
       "      <td>Electronic City Phase II</td>\n",
       "      <td>2.0</td>\n",
       "      <td>1056.0</td>\n",
       "      <td>2.0</td>\n",
       "      <td>1.0</td>\n",
       "      <td>39.07</td>\n",
       "      <td>3699.810606</td>\n",
       "    </tr>\n",
       "    <tr>\n",
       "      <th>1</th>\n",
       "      <td>Plot  Area</td>\n",
       "      <td>Chikka Tirupathi</td>\n",
       "      <td>4.0</td>\n",
       "      <td>2600.0</td>\n",
       "      <td>5.0</td>\n",
       "      <td>3.0</td>\n",
       "      <td>120.00</td>\n",
       "      <td>4615.384615</td>\n",
       "    </tr>\n",
       "    <tr>\n",
       "      <th>2</th>\n",
       "      <td>Built-up  Area</td>\n",
       "      <td>Uttarahalli</td>\n",
       "      <td>3.0</td>\n",
       "      <td>1440.0</td>\n",
       "      <td>2.0</td>\n",
       "      <td>3.0</td>\n",
       "      <td>62.00</td>\n",
       "      <td>4305.555556</td>\n",
       "    </tr>\n",
       "    <tr>\n",
       "      <th>3</th>\n",
       "      <td>Super built-up  Area</td>\n",
       "      <td>Lingadheeranahalli</td>\n",
       "      <td>3.0</td>\n",
       "      <td>1521.0</td>\n",
       "      <td>3.0</td>\n",
       "      <td>1.0</td>\n",
       "      <td>95.00</td>\n",
       "      <td>6245.890861</td>\n",
       "    </tr>\n",
       "    <tr>\n",
       "      <th>4</th>\n",
       "      <td>Super built-up  Area</td>\n",
       "      <td>Kothanur</td>\n",
       "      <td>2.0</td>\n",
       "      <td>1200.0</td>\n",
       "      <td>2.0</td>\n",
       "      <td>1.0</td>\n",
       "      <td>51.00</td>\n",
       "      <td>4250.000000</td>\n",
       "    </tr>\n",
       "  </tbody>\n",
       "</table>\n",
       "</div>"
      ],
      "text/plain": [
       "              area_type                  location  size  total_sqft  bath  \\\n",
       "0  Super built-up  Area  Electronic City Phase II   2.0      1056.0   2.0   \n",
       "1            Plot  Area          Chikka Tirupathi   4.0      2600.0   5.0   \n",
       "2        Built-up  Area               Uttarahalli   3.0      1440.0   2.0   \n",
       "3  Super built-up  Area        Lingadheeranahalli   3.0      1521.0   3.0   \n",
       "4  Super built-up  Area                  Kothanur   2.0      1200.0   2.0   \n",
       "\n",
       "   balcony   price  price per sqft  \n",
       "0      1.0   39.07     3699.810606  \n",
       "1      3.0  120.00     4615.384615  \n",
       "2      3.0   62.00     4305.555556  \n",
       "3      1.0   95.00     6245.890861  \n",
       "4      1.0   51.00     4250.000000  "
      ]
     },
     "execution_count": 25,
     "metadata": {},
     "output_type": "execute_result"
    }
   ],
   "source": [
    "#Introduce price per sq ft feature, which is a very important feature\n",
    "#Price is in lakh, so multiply with 1 lakh and then divide price with total_sqft to get price per sqft\n",
    "df1['price per sqft'] = (df1['price']*100000)/df1['total_sqft']\n",
    "df1.head()"
   ]
  },
  {
   "cell_type": "markdown",
   "metadata": {},
   "source": [
    "# Handle rare categorical features"
   ]
  },
  {
   "cell_type": "code",
   "execution_count": 26,
   "metadata": {},
   "outputs": [
    {
     "data": {
      "text/plain": [
       "4"
      ]
     },
     "execution_count": 26,
     "metadata": {},
     "output_type": "execute_result"
    }
   ],
   "source": [
    "df2 = df1.copy()\n",
    "#Check how many unique area_types are there\n",
    "len(df2['area_type'].unique())"
   ]
  },
  {
   "cell_type": "markdown",
   "metadata": {},
   "source": [
    "For area_type, there are 4 unique categories. so if we do one hot encoding(to convert categorical feature into\n",
    "numerical features) , then 4 new columns will be created and the original area_type column will be removed, so 3 extra new\n",
    "columns will be created, which is feasible"
   ]
  },
  {
   "cell_type": "code",
   "execution_count": 27,
   "metadata": {},
   "outputs": [
    {
     "data": {
      "text/plain": [
       "1305"
      ]
     },
     "execution_count": 27,
     "metadata": {},
     "output_type": "execute_result"
    }
   ],
   "source": [
    "#check how many unique location are there\n",
    "len(df2['location'].unique())"
   ]
  },
  {
   "cell_type": "markdown",
   "metadata": {},
   "source": [
    "There are 1305 unique categories and one hot encoding will create new 1304 features, not at all feasible. This phenomenon of\n",
    "having some many new features getting introduced due to one hot encoding is called dimensionality curse and we need to avoid\n",
    "it. For that we need to perform dimensionality reduction. One technique is to label all rare categorical features with a single\n",
    "label \"Other\""
   ]
  },
  {
   "cell_type": "code",
   "execution_count": 28,
   "metadata": {},
   "outputs": [],
   "source": [
    "#Remove leading and ending spaces from the location so that no ambiguity is created\n",
    "df2['location'] = df2['location'].apply(lambda x: x.strip())"
   ]
  },
  {
   "cell_type": "code",
   "execution_count": 29,
   "metadata": {},
   "outputs": [
    {
     "data": {
      "text/plain": [
       "location\n",
       "Whitefield                        542\n",
       "Sarjapur  Road                    399\n",
       "Electronic City                   304\n",
       "Kanakpura Road                    273\n",
       "Thanisandra                       237\n",
       "                                 ... \n",
       "Bapuji Layout                       1\n",
       "1st Stage Radha Krishna Layout      1\n",
       "BEML Layout 5th stage               1\n",
       "singapura paradise                  1\n",
       "Abshot Layout                       1\n",
       "Name: count, Length: 1294, dtype: int64"
      ]
     },
     "execution_count": 29,
     "metadata": {},
     "output_type": "execute_result"
    }
   ],
   "source": [
    "temp = df2['location'].value_counts()\n",
    "temp"
   ]
  },
  {
   "cell_type": "markdown",
   "metadata": {},
   "source": [
    "We can see that there are many locations which appear only once, these are rare data. We can replace all these rare locations\n",
    "with a single label named 'other'. We can keep a threshold like if no. of records for a location is less than 10(generally\n",
    "consider 1% of total data), then it is rare and we will mark it as 'other'"
   ]
  },
  {
   "cell_type": "code",
   "execution_count": 30,
   "metadata": {},
   "outputs": [
    {
     "data": {
      "text/plain": [
       "100"
      ]
     },
     "execution_count": 30,
     "metadata": {},
     "output_type": "execute_result"
    }
   ],
   "source": [
    "len(temp[temp >= 30])\n"
   ]
  },
  {
   "cell_type": "code",
   "execution_count": 31,
   "metadata": {},
   "outputs": [
    {
     "data": {
      "text/plain": [
       "location\n",
       "Dodda Nekkundi                    29\n",
       "Kudlu                             29\n",
       "Kammasandra                       29\n",
       "BTM 2nd Stage                     29\n",
       "Horamavu Banaswadi                28\n",
       "                                  ..\n",
       "Bapuji Layout                      1\n",
       "1st Stage Radha Krishna Layout     1\n",
       "BEML Layout 5th stage              1\n",
       "singapura paradise                 1\n",
       "Abshot Layout                      1\n",
       "Name: count, Length: 1194, dtype: int64"
      ]
     },
     "execution_count": 31,
     "metadata": {},
     "output_type": "execute_result"
    }
   ],
   "source": [
    "location_less_than_30 = temp[temp < 30]\n",
    "location_less_than_30"
   ]
  },
  {
   "cell_type": "code",
   "execution_count": 32,
   "metadata": {},
   "outputs": [
    {
     "data": {
      "text/plain": [
       "location\n",
       "Whitefield            542\n",
       "Sarjapur  Road        399\n",
       "Electronic City       304\n",
       "Kanakpura Road        273\n",
       "Thanisandra           237\n",
       "                     ... \n",
       "Mahadevpura            31\n",
       "Doddathoguru           30\n",
       "Kumaraswami Layout     30\n",
       "Ananth Nagar           30\n",
       "Chikkalasandra         30\n",
       "Name: count, Length: 100, dtype: int64"
      ]
     },
     "execution_count": 32,
     "metadata": {},
     "output_type": "execute_result"
    }
   ],
   "source": [
    "locations_considered = temp[temp >= 30]\n",
    "locations_considered"
   ]
  },
  {
   "cell_type": "code",
   "execution_count": 33,
   "metadata": {},
   "outputs": [
    {
     "data": {
      "text/plain": [
       "location\n",
       "other_loc             5379\n",
       "Whitefield             542\n",
       "Sarjapur  Road         399\n",
       "Electronic City        304\n",
       "Kanakpura Road         273\n",
       "                      ... \n",
       "Mahadevpura             31\n",
       "Kumaraswami Layout      30\n",
       "Doddathoguru            30\n",
       "Chikkalasandra          30\n",
       "Ananth Nagar            30\n",
       "Name: count, Length: 101, dtype: int64"
      ]
     },
     "execution_count": 33,
     "metadata": {},
     "output_type": "execute_result"
    }
   ],
   "source": [
    "df2['location'] = df2['location'].apply(lambda x: 'other_loc' if x in location_less_than_30 else x )\n",
    "df2['location'].value_counts()"
   ]
  },
  {
   "cell_type": "code",
   "execution_count": 34,
   "metadata": {},
   "outputs": [
    {
     "data": {
      "text/html": [
       "<div>\n",
       "<style scoped>\n",
       "    .dataframe tbody tr th:only-of-type {\n",
       "        vertical-align: middle;\n",
       "    }\n",
       "\n",
       "    .dataframe tbody tr th {\n",
       "        vertical-align: top;\n",
       "    }\n",
       "\n",
       "    .dataframe thead th {\n",
       "        text-align: right;\n",
       "    }\n",
       "</style>\n",
       "<table border=\"1\" class=\"dataframe\">\n",
       "  <thead>\n",
       "    <tr style=\"text-align: right;\">\n",
       "      <th></th>\n",
       "      <th>area_type</th>\n",
       "      <th>location</th>\n",
       "      <th>size</th>\n",
       "      <th>total_sqft</th>\n",
       "      <th>bath</th>\n",
       "      <th>balcony</th>\n",
       "      <th>price</th>\n",
       "      <th>price per sqft</th>\n",
       "    </tr>\n",
       "  </thead>\n",
       "  <tbody>\n",
       "    <tr>\n",
       "      <th>9</th>\n",
       "      <td>Plot  Area</td>\n",
       "      <td>other_loc</td>\n",
       "      <td>6.0</td>\n",
       "      <td>1020.0</td>\n",
       "      <td>6.0</td>\n",
       "      <td>1.584376</td>\n",
       "      <td>370.0</td>\n",
       "      <td>36274.509804</td>\n",
       "    </tr>\n",
       "    <tr>\n",
       "      <th>45</th>\n",
       "      <td>Plot  Area</td>\n",
       "      <td>HSR Layout</td>\n",
       "      <td>8.0</td>\n",
       "      <td>600.0</td>\n",
       "      <td>9.0</td>\n",
       "      <td>1.584376</td>\n",
       "      <td>200.0</td>\n",
       "      <td>33333.333333</td>\n",
       "    </tr>\n",
       "    <tr>\n",
       "      <th>58</th>\n",
       "      <td>Plot  Area</td>\n",
       "      <td>other_loc</td>\n",
       "      <td>6.0</td>\n",
       "      <td>1407.0</td>\n",
       "      <td>4.0</td>\n",
       "      <td>1.000000</td>\n",
       "      <td>150.0</td>\n",
       "      <td>10660.980810</td>\n",
       "    </tr>\n",
       "    <tr>\n",
       "      <th>68</th>\n",
       "      <td>Plot  Area</td>\n",
       "      <td>other_loc</td>\n",
       "      <td>8.0</td>\n",
       "      <td>1350.0</td>\n",
       "      <td>7.0</td>\n",
       "      <td>0.000000</td>\n",
       "      <td>85.0</td>\n",
       "      <td>6296.296296</td>\n",
       "    </tr>\n",
       "    <tr>\n",
       "      <th>70</th>\n",
       "      <td>Plot  Area</td>\n",
       "      <td>other_loc</td>\n",
       "      <td>3.0</td>\n",
       "      <td>500.0</td>\n",
       "      <td>3.0</td>\n",
       "      <td>2.000000</td>\n",
       "      <td>100.0</td>\n",
       "      <td>20000.000000</td>\n",
       "    </tr>\n",
       "  </tbody>\n",
       "</table>\n",
       "</div>"
      ],
      "text/plain": [
       "     area_type    location  size  total_sqft  bath   balcony  price  \\\n",
       "9   Plot  Area   other_loc   6.0      1020.0   6.0  1.584376  370.0   \n",
       "45  Plot  Area  HSR Layout   8.0       600.0   9.0  1.584376  200.0   \n",
       "58  Plot  Area   other_loc   6.0      1407.0   4.0  1.000000  150.0   \n",
       "68  Plot  Area   other_loc   8.0      1350.0   7.0  0.000000   85.0   \n",
       "70  Plot  Area   other_loc   3.0       500.0   3.0  2.000000  100.0   \n",
       "\n",
       "    price per sqft  \n",
       "9     36274.509804  \n",
       "45    33333.333333  \n",
       "58    10660.980810  \n",
       "68     6296.296296  \n",
       "70    20000.000000  "
      ]
     },
     "execution_count": 34,
     "metadata": {},
     "output_type": "execute_result"
    }
   ],
   "source": [
    "#Outlier Removal\n",
    "\n",
    "#Start with sq ft. per bedroom. We can have a data like 6 BHK and total sq ft is only 1000,which is not possible and clearly\n",
    "#an outlier. Outlier means an unusually less data or unusually high data, with reference to the threshold considered\n",
    "\n",
    "#Considering the threshold for sq ft for 1 bedroom to be 300 sq.ft\n",
    "\n",
    "df2[df2['total_sqft']/df2['size'] < 300].head()"
   ]
  },
  {
   "cell_type": "markdown",
   "metadata": {},
   "source": [
    "In the above records, we can see unusual data(6 bhk has 1020 total sq.ft, 8 bhk has 600 sq.ft etc.). \n",
    "These are wrong datas and therefore are outliers and can be directly removed"
   ]
  },
  {
   "cell_type": "code",
   "execution_count": 35,
   "metadata": {},
   "outputs": [
    {
     "data": {
      "text/plain": [
       "(13320, 8)"
      ]
     },
     "execution_count": 35,
     "metadata": {},
     "output_type": "execute_result"
    }
   ],
   "source": [
    "df2.shape"
   ]
  },
  {
   "cell_type": "code",
   "execution_count": 36,
   "metadata": {},
   "outputs": [
    {
     "data": {
      "text/plain": [
       "(12572, 8)"
      ]
     },
     "execution_count": 36,
     "metadata": {},
     "output_type": "execute_result"
    }
   ],
   "source": [
    "df3 = df2[~(df2['total_sqft']/df2['size'] < 300)]\n",
    "df3.shape"
   ]
  },
  {
   "cell_type": "code",
   "execution_count": 37,
   "metadata": {},
   "outputs": [
    {
     "data": {
      "text/plain": [
       "(12572, 8)"
      ]
     },
     "execution_count": 37,
     "metadata": {},
     "output_type": "execute_result"
    }
   ],
   "source": [
    "df2 = df3\n",
    "df2.shape"
   ]
  },
  {
   "cell_type": "code",
   "execution_count": 38,
   "metadata": {},
   "outputs": [
    {
     "data": {
      "text/plain": [
       "count     12572.000000\n",
       "mean       6312.185150\n",
       "std        4177.946702\n",
       "min         267.829813\n",
       "25%        4209.344773\n",
       "50%        5294.736984\n",
       "75%        6927.325006\n",
       "max      176470.588235\n",
       "Name: price per sqft, dtype: float64"
      ]
     },
     "execution_count": 38,
     "metadata": {},
     "output_type": "execute_result"
    }
   ],
   "source": [
    "#Now consider price per sq. ft. Price per sq. ft can be too low or too high. 1st we need to check the description of \n",
    "#this feature price per sq ft\n",
    "df2['price per sqft'].describe()"
   ]
  },
  {
   "cell_type": "markdown",
   "metadata": {},
   "source": [
    "As we can see , min value is 267 and max value is 176470. Min value is very absurd(very less). Max value might be possible\n",
    "if the area is very high fi. But as we are building a generic model, we will consider values above a certain threshold\n",
    "as outliers and remove them"
   ]
  },
  {
   "cell_type": "code",
   "execution_count": 39,
   "metadata": {},
   "outputs": [
    {
     "data": {
      "image/png": "[encoded data removed]",
      "text/plain": [
       "<Figure size 640x480 with 1 Axes>"
      ]
     },
     "metadata": {},
     "output_type": "display_data"
    }
   ],
   "source": [
    "plt.hist(df2['price per sqft'], bins = 200, rwidth = 0.8)\n",
    "plt.xlabel('price per sqft')\n",
    "plt.ylabel('count')\n",
    "plt.show()"
   ]
  },
  {
   "cell_type": "markdown",
   "metadata": {},
   "source": [
    "From the histogram, we can see that the price per sqft column follows somewhat normal distribution. \n",
    "In case of any normal distribution, most of the values are centred around the mean i.e close to the mean.\n",
    "From the describe(), we can see that mean is 6312 and this value lies b/w 50-75 percentile.\n",
    "25 percentile is 4209 meaning 25% of total no. of records have price per sqft value less than 4209\n",
    "50 % of total no. of records have price per sqft value less than 5294 and 75% of total no. of\n",
    "records have price per sqft value less than 6927. So, we can say that from 25% to 75% i.e 50% of data are close to mean i.e\n",
    "6312 and thus it roughly follows normal distribution\n",
    "\n",
    "Since it follows normal distribution, we can apply standard deviation method to remove the outliers"
   ]
  },
  {
   "cell_type": "code",
   "execution_count": 40,
   "metadata": {},
   "outputs": [
    {
     "data": {
      "text/plain": [
       "(10657, 8)"
      ]
     },
     "execution_count": 40,
     "metadata": {},
     "output_type": "execute_result"
    }
   ],
   "source": [
    "#Generally we consider 3 standard deviation while removing outliers.\n",
    "#It means mean is at centre, lower limit = mean - 3* 1 standard deviation, upper limit =  mean + 3* 1 standard deviation\n",
    "#If the value lies b/w this lower limit and upper limit, it is not a outlier., else it is a outlier\n",
    "#However here we are seeing that lower limit will be negative if we consider 3 standard deviation and price per sqft has min\n",
    "#value as 267, so none of the values are negative, so all the values lower than mean will be considered as non-outlier, \n",
    "#which is incorrect. So, in this case we have to consider 1 standard deviation\n",
    "\n",
    "#Whenever we are calculating mean and std, we should always do groupby first and then calculate as mean is for the all the \n",
    "#records under groupby category (here location)\n",
    "def remove_pps_outliers(df):\n",
    "    final_df = pd.DataFrame()\n",
    "    for key, subdf in df.groupby('location'):\n",
    "         upper_limit = subdf['price per sqft'].mean() + 1*subdf['price per sqft'].std()\n",
    "         lower_limit = subdf['price per sqft'].mean() - 1*subdf['price per sqft'].std()\n",
    "         subdf_without_outliers = subdf[(subdf['price per sqft'] >= lower_limit) & (subdf['price per sqft'] <= upper_limit)]\n",
    "         final_df = pd.concat([final_df , subdf_without_outliers], ignore_index = True)\n",
    "    return final_df\n",
    "\n",
    "df3 = remove_pps_outliers(df2)\n",
    "df3.shape"
   ]
  },
  {
   "cell_type": "code",
   "execution_count": 41,
   "metadata": {},
   "outputs": [
    {
     "data": {
      "text/plain": [
       "1915"
      ]
     },
     "execution_count": 41,
     "metadata": {},
     "output_type": "execute_result"
    }
   ],
   "source": [
    "#No. of outlier records removed\n",
    "df2.shape[0] - df3.shape[0]"
   ]
  },
  {
   "cell_type": "code",
   "execution_count": 42,
   "metadata": {},
   "outputs": [
    {
     "data": {
      "text/plain": [
       "(10561, 8)"
      ]
     },
     "execution_count": 42,
     "metadata": {},
     "output_type": "execute_result"
    }
   ],
   "source": [
    "#Bathrooms: Its unusual that a 2 BHK house has 5 or 6 bathrooms, so those are outliers\n",
    "#For bathroom , if no. of bathrooms greater than no. of bed rooms + 2, then it is an outlier and remove them\n",
    "df3 = df3[df3['bath'] < df3['size'] + 2]\n",
    "df3.shape"
   ]
  },
  {
   "cell_type": "code",
   "execution_count": 43,
   "metadata": {},
   "outputs": [
    {
     "data": {
      "text/plain": [
       "(10561, 8)"
      ]
     },
     "execution_count": 43,
     "metadata": {},
     "output_type": "execute_result"
    }
   ],
   "source": [
    "#Balcony : Its unusual that a 2 BHK house has 5 or 6 balcony, so those are outliers\n",
    "#For balcony, if no. of balcony is greater than no of bed rooms + 2, then it is an outlier and remove them\n",
    "df3 = df3[df3['balcony'] < df3['size'] + 2]\n",
    "df3.shape"
   ]
  },
  {
   "cell_type": "code",
   "execution_count": 44,
   "metadata": {},
   "outputs": [
    {
     "data": {
      "image/png": "[encoded data removed]",
      "text/plain": [
       "<Figure size 640x480 with 1 Axes>"
      ]
     },
     "metadata": {},
     "output_type": "display_data"
    }
   ],
   "source": [
    "def plot_scatter_chart(df,location):\n",
    "    bhk2 = df[(df['location']==location) & (df['size']==2)]\n",
    "    bhk3 = df[(df['location']==location) & (df['size']==3)]\n",
    "    plt.scatter(bhk2['total_sqft'],bhk2['price per sqft'],color='blue',label='2 BHK', s=50)\n",
    "    plt.scatter(bhk3['total_sqft'],bhk3['price per sqft'],marker='+', color='green',label='3 BHK', s=50)\n",
    "    plt.xlabel(\"Total Square Feet Area\")\n",
    "    plt.ylabel(\"Price per sqft(Lakh Indian Rupees)\")\n",
    "    plt.title(location)\n",
    "    plt.legend()\n",
    "    \n",
    "plot_scatter_chart(df3,\"Hebbal\")"
   ]
  },
  {
   "cell_type": "code",
   "execution_count": 45,
   "metadata": {},
   "outputs": [
    {
     "data": {
      "text/plain": [
       "(5800, 8)"
      ]
     },
     "execution_count": 45,
     "metadata": {},
     "output_type": "execute_result"
    }
   ],
   "source": [
    "def remove_bhk_outliers(df):\n",
    "    exclude_indices = np.array([])\n",
    "    for location, location_df in df.groupby('location'):\n",
    "        bhk_dict = {}\n",
    "        for bhk, bhk_df in location_df.groupby('size'):\n",
    "            bhk_dict[bhk] = bhk_df['price per sqft'].mean()\n",
    "             \n",
    "        for bhk, bhk_df in location_df.groupby('size'):\n",
    "            prev_bhk_mean = bhk_dict.get(bhk-1)\n",
    "            if prev_bhk_mean:\n",
    "                exclude_indices = np.append(exclude_indices, bhk_df[bhk_df['price per sqft']< prev_bhk_mean].index.values)\n",
    "    return df.drop(exclude_indices,axis='index')\n",
    "\n",
    "df4 = remove_bhk_outliers(df3)\n",
    "df4.shape"
   ]
  },
  {
   "cell_type": "code",
   "execution_count": 46,
   "metadata": {},
   "outputs": [
    {
     "data": {
      "image/png": "[encoded data removed]",
      "text/plain": [
       "<Figure size 640x480 with 1 Axes>"
      ]
     },
     "metadata": {},
     "output_type": "display_data"
    }
   ],
   "source": [
    "plot_scatter_chart(df4,\"Hebbal\")"
   ]
  },
  {
   "cell_type": "code",
   "execution_count": 47,
   "metadata": {},
   "outputs": [
    {
     "data": {
      "text/plain": [
       "(5800, 7)"
      ]
     },
     "execution_count": 47,
     "metadata": {},
     "output_type": "execute_result"
    }
   ],
   "source": [
    "#Now all outliers removed\n",
    "#Since price per sqft column is only for removing outliers, so we can delete it\n",
    "df4.drop(['price per sqft'], axis = 'columns', inplace = True)\n",
    "df4.shape"
   ]
  },
  {
   "cell_type": "code",
   "execution_count": 50,
   "metadata": {},
   "outputs": [
    {
     "data": {
      "text/html": [
       "<div>\n",
       "<style scoped>\n",
       "    .dataframe tbody tr th:only-of-type {\n",
       "        vertical-align: middle;\n",
       "    }\n",
       "\n",
       "    .dataframe tbody tr th {\n",
       "        vertical-align: top;\n",
       "    }\n",
       "\n",
       "    .dataframe thead th {\n",
       "        text-align: right;\n",
       "    }\n",
       "</style>\n",
       "<table border=\"1\" class=\"dataframe\">\n",
       "  <thead>\n",
       "    <tr style=\"text-align: right;\">\n",
       "      <th></th>\n",
       "      <th>Built-up  Area</th>\n",
       "      <th>Carpet  Area</th>\n",
       "      <th>Plot  Area</th>\n",
       "      <th>Super built-up  Area</th>\n",
       "    </tr>\n",
       "  </thead>\n",
       "  <tbody>\n",
       "    <tr>\n",
       "      <th>0</th>\n",
       "      <td>False</td>\n",
       "      <td>False</td>\n",
       "      <td>False</td>\n",
       "      <td>True</td>\n",
       "    </tr>\n",
       "    <tr>\n",
       "      <th>2</th>\n",
       "      <td>True</td>\n",
       "      <td>False</td>\n",
       "      <td>False</td>\n",
       "      <td>False</td>\n",
       "    </tr>\n",
       "    <tr>\n",
       "      <th>3</th>\n",
       "      <td>False</td>\n",
       "      <td>False</td>\n",
       "      <td>False</td>\n",
       "      <td>True</td>\n",
       "    </tr>\n",
       "    <tr>\n",
       "      <th>4</th>\n",
       "      <td>True</td>\n",
       "      <td>False</td>\n",
       "      <td>False</td>\n",
       "      <td>False</td>\n",
       "    </tr>\n",
       "    <tr>\n",
       "      <th>6</th>\n",
       "      <td>True</td>\n",
       "      <td>False</td>\n",
       "      <td>False</td>\n",
       "      <td>False</td>\n",
       "    </tr>\n",
       "  </tbody>\n",
       "</table>\n",
       "</div>"
      ],
      "text/plain": [
       "   Built-up  Area  Carpet  Area  Plot  Area  Super built-up  Area\n",
       "0           False         False       False                  True\n",
       "2            True         False       False                 False\n",
       "3           False         False       False                  True\n",
       "4            True         False       False                 False\n",
       "6            True         False       False                 False"
      ]
     },
     "execution_count": 50,
     "metadata": {},
     "output_type": "execute_result"
    }
   ],
   "source": [
    "\n",
    "\n",
    "#Convert categorical data into numerical data using one hot encoding\n",
    "\n",
    "#For area type\n",
    "dum = pd.get_dummies(df4['area_type'])\n",
    "dum.head()"
   ]
  },
  {
   "cell_type": "code",
   "execution_count": 51,
   "metadata": {},
   "outputs": [],
   "source": [
    "df5 = pd.concat([df4,dum], axis = 'columns')"
   ]
  },
  {
   "cell_type": "code",
   "execution_count": 52,
   "metadata": {},
   "outputs": [
    {
     "data": {
      "text/html": [
       "<div>\n",
       "<style scoped>\n",
       "    .dataframe tbody tr th:only-of-type {\n",
       "        vertical-align: middle;\n",
       "    }\n",
       "\n",
       "    .dataframe tbody tr th {\n",
       "        vertical-align: top;\n",
       "    }\n",
       "\n",
       "    .dataframe thead th {\n",
       "        text-align: right;\n",
       "    }\n",
       "</style>\n",
       "<table border=\"1\" class=\"dataframe\">\n",
       "  <thead>\n",
       "    <tr style=\"text-align: right;\">\n",
       "      <th></th>\n",
       "      <th>location</th>\n",
       "      <th>size</th>\n",
       "      <th>total_sqft</th>\n",
       "      <th>bath</th>\n",
       "      <th>balcony</th>\n",
       "      <th>price</th>\n",
       "      <th>Built-up  Area</th>\n",
       "      <th>Carpet  Area</th>\n",
       "      <th>Plot  Area</th>\n",
       "      <th>Super built-up  Area</th>\n",
       "    </tr>\n",
       "  </thead>\n",
       "  <tbody>\n",
       "    <tr>\n",
       "      <th>0</th>\n",
       "      <td>5th Phase JP Nagar</td>\n",
       "      <td>2.0</td>\n",
       "      <td>1075.0</td>\n",
       "      <td>2.0</td>\n",
       "      <td>2.0</td>\n",
       "      <td>60.0</td>\n",
       "      <td>False</td>\n",
       "      <td>False</td>\n",
       "      <td>False</td>\n",
       "      <td>True</td>\n",
       "    </tr>\n",
       "    <tr>\n",
       "      <th>2</th>\n",
       "      <td>5th Phase JP Nagar</td>\n",
       "      <td>2.0</td>\n",
       "      <td>1256.0</td>\n",
       "      <td>2.0</td>\n",
       "      <td>1.0</td>\n",
       "      <td>62.8</td>\n",
       "      <td>True</td>\n",
       "      <td>False</td>\n",
       "      <td>False</td>\n",
       "      <td>False</td>\n",
       "    </tr>\n",
       "    <tr>\n",
       "      <th>3</th>\n",
       "      <td>5th Phase JP Nagar</td>\n",
       "      <td>2.0</td>\n",
       "      <td>1207.0</td>\n",
       "      <td>2.0</td>\n",
       "      <td>2.0</td>\n",
       "      <td>63.0</td>\n",
       "      <td>False</td>\n",
       "      <td>False</td>\n",
       "      <td>False</td>\n",
       "      <td>True</td>\n",
       "    </tr>\n",
       "    <tr>\n",
       "      <th>4</th>\n",
       "      <td>5th Phase JP Nagar</td>\n",
       "      <td>3.0</td>\n",
       "      <td>1725.0</td>\n",
       "      <td>2.0</td>\n",
       "      <td>2.0</td>\n",
       "      <td>100.0</td>\n",
       "      <td>True</td>\n",
       "      <td>False</td>\n",
       "      <td>False</td>\n",
       "      <td>False</td>\n",
       "    </tr>\n",
       "    <tr>\n",
       "      <th>6</th>\n",
       "      <td>5th Phase JP Nagar</td>\n",
       "      <td>3.0</td>\n",
       "      <td>1700.0</td>\n",
       "      <td>2.0</td>\n",
       "      <td>3.0</td>\n",
       "      <td>100.0</td>\n",
       "      <td>True</td>\n",
       "      <td>False</td>\n",
       "      <td>False</td>\n",
       "      <td>False</td>\n",
       "    </tr>\n",
       "  </tbody>\n",
       "</table>\n",
       "</div>"
      ],
      "text/plain": [
       "             location  size  total_sqft  bath  balcony  price  Built-up  Area  \\\n",
       "0  5th Phase JP Nagar   2.0      1075.0   2.0      2.0   60.0           False   \n",
       "2  5th Phase JP Nagar   2.0      1256.0   2.0      1.0   62.8            True   \n",
       "3  5th Phase JP Nagar   2.0      1207.0   2.0      2.0   63.0           False   \n",
       "4  5th Phase JP Nagar   3.0      1725.0   2.0      2.0  100.0            True   \n",
       "6  5th Phase JP Nagar   3.0      1700.0   2.0      3.0  100.0            True   \n",
       "\n",
       "   Carpet  Area  Plot  Area  Super built-up  Area  \n",
       "0         False       False                  True  \n",
       "2         False       False                 False  \n",
       "3         False       False                  True  \n",
       "4         False       False                 False  \n",
       "6         False       False                 False  "
      ]
     },
     "execution_count": 52,
     "metadata": {},
     "output_type": "execute_result"
    }
   ],
   "source": [
    "#Drop area_type as dummy columns have already been created\n",
    "df5.drop(['area_type'] , axis = 1, inplace = True)\n",
    "df5.head()"
   ]
  },
  {
   "cell_type": "code",
   "execution_count": 53,
   "metadata": {},
   "outputs": [
    {
     "data": {
      "text/plain": [
       "(5800, 110)"
      ]
     },
     "execution_count": 53,
     "metadata": {},
     "output_type": "execute_result"
    }
   ],
   "source": [
    "#Do one hot encoding for location\n",
    "location_dummy = pd.get_dummies(df5['location'])\n",
    "df6 = pd.concat([df5,location_dummy], axis = 'columns')\n",
    "df6.drop(['location'], axis = 1, inplace = True)\n",
    "df6.shape"
   ]
  },
  {
   "cell_type": "code",
   "execution_count": 56,
   "metadata": {},
   "outputs": [
    {
     "data": {
      "text/plain": [
       "(5800, 109)"
      ]
     },
     "execution_count": 56,
     "metadata": {},
     "output_type": "execute_result"
    }
   ],
   "source": [
    "#Now the model is ready to be trained\n",
    "X = df6.drop('price' , axis = 'columns')\n",
    "X.shape"
   ]
  },
  {
   "cell_type": "code",
   "execution_count": 54,
   "metadata": {},
   "outputs": [],
   "source": [
    "y = df6['price']\n"
   ]
  },
  {
   "cell_type": "code",
   "execution_count": 57,
   "metadata": {},
   "outputs": [],
   "source": [
    "from sklearn.model_selection import train_test_split\n",
    "X_train, X_test, y_train, y_test = train_test_split(X,y,test_size=0.2,random_state=10)"
   ]
  },
  {
   "cell_type": "code",
   "execution_count": 58,
   "metadata": {},
   "outputs": [
    {
     "data": {
      "text/plain": [
       "0.8561608717129283"
      ]
     },
     "execution_count": 58,
     "metadata": {},
     "output_type": "execute_result"
    }
   ],
   "source": [
    "from sklearn.linear_model import LinearRegression\n",
    "lr_clf = LinearRegression()\n",
    "lr_clf.fit(X_train,y_train)\n",
    "lr_clf.score(X_test,y_test)"
   ]
  },
  {
   "cell_type": "code",
   "execution_count": 59,
   "metadata": {},
   "outputs": [
    {
     "data": {
      "text/plain": [
       "array([0.86961024, 0.87780421, 0.86913043, 0.8573367 , 0.86438713])"
      ]
     },
     "execution_count": 59,
     "metadata": {},
     "output_type": "execute_result"
    }
   ],
   "source": [
    "#Use K-fold cross validation\n",
    "#Shuffle split will randomize the dataset so that each of the fold will have equal distribution\n",
    "from sklearn.model_selection import ShuffleSplit\n",
    "from sklearn.model_selection import cross_val_score\n",
    "\n",
    "cv=ShuffleSplit(n_splits=5, test_size=0.2, random_state=0)\n",
    "cross_val_score(lr_clf,X,y,cv=cv)"
   ]
  },
  {
   "cell_type": "markdown",
   "metadata": {},
   "source": [
    "For linear regression, we see that for running cross val score 5 times, everytime we got a score of above 0.85, which is good\n",
    "Lets try other models"
   ]
  },
  {
   "cell_type": "code",
   "execution_count": 62,
   "metadata": {},
   "outputs": [],
   "source": [
    "import pandas as pd\n",
    "from sklearn.linear_model import LinearRegression, Lasso\n",
    "from sklearn.tree import DecisionTreeRegressor\n",
    "from sklearn.model_selection import GridSearchCV, ShuffleSplit\n",
    "from sklearn.pipeline import Pipeline\n",
    "from sklearn.preprocessing import StandardScaler\n",
    "\n",
    "def find_best_model_using_gridsearchcv(X, y):\n",
    "    # Define the algorithms and their hyperparameters\n",
    "    algos = {\n",
    "        'linear_regression': {\n",
    "            'model': Pipeline([\n",
    "                ('scaler', StandardScaler()),  # Normalize features using StandardScaler\n",
    "                ('regressor', LinearRegression())\n",
    "            ]),\n",
    "            'params': {\n",
    "                'regressor__fit_intercept': [True, False],  # Updated to fit_intercept parameter\n",
    "            }\n",
    "        },\n",
    "        'lasso': {\n",
    "            'model': Lasso(),\n",
    "            'params': {\n",
    "                'alpha': [1, 2],\n",
    "                'selection': ['random', 'cyclic']\n",
    "            }\n",
    "        },\n",
    "        'decision_tree': {\n",
    "            'model': DecisionTreeRegressor(),\n",
    "            'params': {\n",
    "                'criterion': ['squared_error', 'friedman_mse'],  # Updated criterion names\n",
    "                'splitter': ['best', 'random']\n",
    "            }\n",
    "        }\n",
    "    }\n",
    "    # Use ShuffleSplit cross-validation to measure accuracy of the models\n",
    "    cv = ShuffleSplit(n_splits=5, test_size=0.2, random_state=0)\n",
    "    scores = []\n",
    "    \n",
    "    # Iterate over each algorithm\n",
    "    for algo_name, config in algos.items():\n",
    "        gs = GridSearchCV(config['model'], config['params'], cv=cv, return_train_score=False)\n",
    "        gs.fit(X, y)\n",
    "        scores.append({\n",
    "            'model': algo_name,\n",
    "            'best_score': gs.best_score_,\n",
    "            'best_params': gs.best_params_\n",
    "        })\n",
    "\n",
    "    # Return the scores in a pandas DataFrame\n",
    "    return pd.DataFrame(scores, columns=['model', 'best_score', 'best_params'])\n",
    "\n",
    "# Example usage:\n",
    "# df = find_best_model_using_gridsearchcv(X, y)\n",
    "# print(df)\n",
    "\n",
    "    "
   ]
  },
  {
   "cell_type": "markdown",
   "metadata": {},
   "source": [
    "We see that linear regression performs best with best params as normalize = False"
   ]
  },
  {
   "cell_type": "code",
   "execution_count": 64,
   "metadata": {},
   "outputs": [
    {
     "data": {
      "text/html": [
       "<div>\n",
       "<style scoped>\n",
       "    .dataframe tbody tr th:only-of-type {\n",
       "        vertical-align: middle;\n",
       "    }\n",
       "\n",
       "    .dataframe tbody tr th {\n",
       "        vertical-align: top;\n",
       "    }\n",
       "\n",
       "    .dataframe thead th {\n",
       "        text-align: right;\n",
       "    }\n",
       "</style>\n",
       "<table border=\"1\" class=\"dataframe\">\n",
       "  <thead>\n",
       "    <tr style=\"text-align: right;\">\n",
       "      <th></th>\n",
       "      <th>size</th>\n",
       "      <th>total_sqft</th>\n",
       "      <th>bath</th>\n",
       "      <th>balcony</th>\n",
       "      <th>Built-up  Area</th>\n",
       "      <th>Carpet  Area</th>\n",
       "      <th>Plot  Area</th>\n",
       "      <th>Super built-up  Area</th>\n",
       "      <th>5th Phase JP Nagar</th>\n",
       "      <th>7th Phase JP Nagar</th>\n",
       "      <th>8th Phase JP Nagar</th>\n",
       "      <th>9th Phase JP Nagar</th>\n",
       "      <th>Akshaya Nagar</th>\n",
       "      <th>Ambedkar Nagar</th>\n",
       "      <th>Ananth Nagar</th>\n",
       "      <th>Anekal</th>\n",
       "      <th>Attibele</th>\n",
       "      <th>Balagere</th>\n",
       "      <th>Banashankari</th>\n",
       "      <th>Bannerghatta Road</th>\n",
       "      <th>Basavangudi</th>\n",
       "      <th>Begur Road</th>\n",
       "      <th>Bellandur</th>\n",
       "      <th>Bhoganhalli</th>\n",
       "      <th>Bisuvanahalli</th>\n",
       "      <th>Bommanahalli</th>\n",
       "      <th>Bommasandra</th>\n",
       "      <th>Brookefield</th>\n",
       "      <th>Budigere</th>\n",
       "      <th>CV Raman Nagar</th>\n",
       "      <th>Chandapura</th>\n",
       "      <th>Channasandra</th>\n",
       "      <th>Chikkalasandra</th>\n",
       "      <th>Devanahalli</th>\n",
       "      <th>Doddathoguru</th>\n",
       "      <th>Electronic City</th>\n",
       "      <th>Electronic City Phase II</th>\n",
       "      <th>Electronics City Phase 1</th>\n",
       "      <th>Frazer Town</th>\n",
       "      <th>Gottigere</th>\n",
       "      <th>Green Glen Layout</th>\n",
       "      <th>HSR Layout</th>\n",
       "      <th>Haralur Road</th>\n",
       "      <th>Harlur</th>\n",
       "      <th>Hebbal</th>\n",
       "      <th>Hebbal Kempapura</th>\n",
       "      <th>Hegde Nagar</th>\n",
       "      <th>Hennur</th>\n",
       "      <th>Hennur Road</th>\n",
       "      <th>Hoodi</th>\n",
       "      <th>Horamavu Agara</th>\n",
       "      <th>Hormavu</th>\n",
       "      <th>Hosa Road</th>\n",
       "      <th>Hosakerehalli</th>\n",
       "      <th>Hosur Road</th>\n",
       "      <th>Hulimavu</th>\n",
       "      <th>Indira Nagar</th>\n",
       "      <th>JP Nagar</th>\n",
       "      <th>Jakkur</th>\n",
       "      <th>Jalahalli</th>\n",
       "      <th>Jigani</th>\n",
       "      <th>KR Puram</th>\n",
       "      <th>Kadugodi</th>\n",
       "      <th>Kaggadasapura</th>\n",
       "      <th>Kalena Agrahara</th>\n",
       "      <th>Kanakapura</th>\n",
       "      <th>Kanakpura Road</th>\n",
       "      <th>Kasavanhalli</th>\n",
       "      <th>Kengeri</th>\n",
       "      <th>Kengeri Satellite Town</th>\n",
       "      <th>Koramangala</th>\n",
       "      <th>Kothanur</th>\n",
       "      <th>Kudlu Gate</th>\n",
       "      <th>Kumaraswami Layout</th>\n",
       "      <th>Kundalahalli</th>\n",
       "      <th>Lakshminarayana Pura</th>\n",
       "      <th>Mahadevpura</th>\n",
       "      <th>Malleshwaram</th>\n",
       "      <th>Marathahalli</th>\n",
       "      <th>Mysore Road</th>\n",
       "      <th>Nagarbhavi</th>\n",
       "      <th>Old Airport Road</th>\n",
       "      <th>Old Madras Road</th>\n",
       "      <th>Panathur</th>\n",
       "      <th>R.T. Nagar</th>\n",
       "      <th>Rachenahalli</th>\n",
       "      <th>Raja Rajeshwari Nagar</th>\n",
       "      <th>Rajaji Nagar</th>\n",
       "      <th>Ramagondanahalli</th>\n",
       "      <th>Ramamurthy Nagar</th>\n",
       "      <th>Sahakara Nagar</th>\n",
       "      <th>Sarjapur</th>\n",
       "      <th>Sarjapur  Road</th>\n",
       "      <th>Subramanyapura</th>\n",
       "      <th>TC Palaya</th>\n",
       "      <th>Talaghattapura</th>\n",
       "      <th>Thanisandra</th>\n",
       "      <th>Thigalarapalya</th>\n",
       "      <th>Tumkur Road</th>\n",
       "      <th>Uttarahalli</th>\n",
       "      <th>Varthur</th>\n",
       "      <th>Vidyaranyapura</th>\n",
       "      <th>Vijayanagar</th>\n",
       "      <th>Vittasandra</th>\n",
       "      <th>Whitefield</th>\n",
       "      <th>Yelahanka</th>\n",
       "      <th>Yelahanka New Town</th>\n",
       "      <th>Yeshwanthpur</th>\n",
       "      <th>other_loc</th>\n",
       "    </tr>\n",
       "  </thead>\n",
       "  <tbody>\n",
       "    <tr>\n",
       "      <th>0</th>\n",
       "      <td>2.0</td>\n",
       "      <td>1075.0</td>\n",
       "      <td>2.0</td>\n",
       "      <td>2.0</td>\n",
       "      <td>False</td>\n",
       "      <td>False</td>\n",
       "      <td>False</td>\n",
       "      <td>True</td>\n",
       "      <td>True</td>\n",
       "      <td>False</td>\n",
       "      <td>False</td>\n",
       "      <td>False</td>\n",
       "      <td>False</td>\n",
       "      <td>False</td>\n",
       "      <td>False</td>\n",
       "      <td>False</td>\n",
       "      <td>False</td>\n",
       "      <td>False</td>\n",
       "      <td>False</td>\n",
       "      <td>False</td>\n",
       "      <td>False</td>\n",
       "      <td>False</td>\n",
       "      <td>False</td>\n",
       "      <td>False</td>\n",
       "      <td>False</td>\n",
       "      <td>False</td>\n",
       "      <td>False</td>\n",
       "      <td>False</td>\n",
       "      <td>False</td>\n",
       "      <td>False</td>\n",
       "      <td>False</td>\n",
       "      <td>False</td>\n",
       "      <td>False</td>\n",
       "      <td>False</td>\n",
       "      <td>False</td>\n",
       "      <td>False</td>\n",
       "      <td>False</td>\n",
       "      <td>False</td>\n",
       "      <td>False</td>\n",
       "      <td>False</td>\n",
       "      <td>False</td>\n",
       "      <td>False</td>\n",
       "      <td>False</td>\n",
       "      <td>False</td>\n",
       "      <td>False</td>\n",
       "      <td>False</td>\n",
       "      <td>False</td>\n",
       "      <td>False</td>\n",
       "      <td>False</td>\n",
       "      <td>False</td>\n",
       "      <td>False</td>\n",
       "      <td>False</td>\n",
       "      <td>False</td>\n",
       "      <td>False</td>\n",
       "      <td>False</td>\n",
       "      <td>False</td>\n",
       "      <td>False</td>\n",
       "      <td>False</td>\n",
       "      <td>False</td>\n",
       "      <td>False</td>\n",
       "      <td>False</td>\n",
       "      <td>False</td>\n",
       "      <td>False</td>\n",
       "      <td>False</td>\n",
       "      <td>False</td>\n",
       "      <td>False</td>\n",
       "      <td>False</td>\n",
       "      <td>False</td>\n",
       "      <td>False</td>\n",
       "      <td>False</td>\n",
       "      <td>False</td>\n",
       "      <td>False</td>\n",
       "      <td>False</td>\n",
       "      <td>False</td>\n",
       "      <td>False</td>\n",
       "      <td>False</td>\n",
       "      <td>False</td>\n",
       "      <td>False</td>\n",
       "      <td>False</td>\n",
       "      <td>False</td>\n",
       "      <td>False</td>\n",
       "      <td>False</td>\n",
       "      <td>False</td>\n",
       "      <td>False</td>\n",
       "      <td>False</td>\n",
       "      <td>False</td>\n",
       "      <td>False</td>\n",
       "      <td>False</td>\n",
       "      <td>False</td>\n",
       "      <td>False</td>\n",
       "      <td>False</td>\n",
       "      <td>False</td>\n",
       "      <td>False</td>\n",
       "      <td>False</td>\n",
       "      <td>False</td>\n",
       "      <td>False</td>\n",
       "      <td>False</td>\n",
       "      <td>False</td>\n",
       "      <td>False</td>\n",
       "      <td>False</td>\n",
       "      <td>False</td>\n",
       "      <td>False</td>\n",
       "      <td>False</td>\n",
       "      <td>False</td>\n",
       "      <td>False</td>\n",
       "      <td>False</td>\n",
       "      <td>False</td>\n",
       "      <td>False</td>\n",
       "      <td>False</td>\n",
       "    </tr>\n",
       "    <tr>\n",
       "      <th>2</th>\n",
       "      <td>2.0</td>\n",
       "      <td>1256.0</td>\n",
       "      <td>2.0</td>\n",
       "      <td>1.0</td>\n",
       "      <td>True</td>\n",
       "      <td>False</td>\n",
       "      <td>False</td>\n",
       "      <td>False</td>\n",
       "      <td>True</td>\n",
       "      <td>False</td>\n",
       "      <td>False</td>\n",
       "      <td>False</td>\n",
       "      <td>False</td>\n",
       "      <td>False</td>\n",
       "      <td>False</td>\n",
       "      <td>False</td>\n",
       "      <td>False</td>\n",
       "      <td>False</td>\n",
       "      <td>False</td>\n",
       "      <td>False</td>\n",
       "      <td>False</td>\n",
       "      <td>False</td>\n",
       "      <td>False</td>\n",
       "      <td>False</td>\n",
       "      <td>False</td>\n",
       "      <td>False</td>\n",
       "      <td>False</td>\n",
       "      <td>False</td>\n",
       "      <td>False</td>\n",
       "      <td>False</td>\n",
       "      <td>False</td>\n",
       "      <td>False</td>\n",
       "      <td>False</td>\n",
       "      <td>False</td>\n",
       "      <td>False</td>\n",
       "      <td>False</td>\n",
       "      <td>False</td>\n",
       "      <td>False</td>\n",
       "      <td>False</td>\n",
       "      <td>False</td>\n",
       "      <td>False</td>\n",
       "      <td>False</td>\n",
       "      <td>False</td>\n",
       "      <td>False</td>\n",
       "      <td>False</td>\n",
       "      <td>False</td>\n",
       "      <td>False</td>\n",
       "      <td>False</td>\n",
       "      <td>False</td>\n",
       "      <td>False</td>\n",
       "      <td>False</td>\n",
       "      <td>False</td>\n",
       "      <td>False</td>\n",
       "      <td>False</td>\n",
       "      <td>False</td>\n",
       "      <td>False</td>\n",
       "      <td>False</td>\n",
       "      <td>False</td>\n",
       "      <td>False</td>\n",
       "      <td>False</td>\n",
       "      <td>False</td>\n",
       "      <td>False</td>\n",
       "      <td>False</td>\n",
       "      <td>False</td>\n",
       "      <td>False</td>\n",
       "      <td>False</td>\n",
       "      <td>False</td>\n",
       "      <td>False</td>\n",
       "      <td>False</td>\n",
       "      <td>False</td>\n",
       "      <td>False</td>\n",
       "      <td>False</td>\n",
       "      <td>False</td>\n",
       "      <td>False</td>\n",
       "      <td>False</td>\n",
       "      <td>False</td>\n",
       "      <td>False</td>\n",
       "      <td>False</td>\n",
       "      <td>False</td>\n",
       "      <td>False</td>\n",
       "      <td>False</td>\n",
       "      <td>False</td>\n",
       "      <td>False</td>\n",
       "      <td>False</td>\n",
       "      <td>False</td>\n",
       "      <td>False</td>\n",
       "      <td>False</td>\n",
       "      <td>False</td>\n",
       "      <td>False</td>\n",
       "      <td>False</td>\n",
       "      <td>False</td>\n",
       "      <td>False</td>\n",
       "      <td>False</td>\n",
       "      <td>False</td>\n",
       "      <td>False</td>\n",
       "      <td>False</td>\n",
       "      <td>False</td>\n",
       "      <td>False</td>\n",
       "      <td>False</td>\n",
       "      <td>False</td>\n",
       "      <td>False</td>\n",
       "      <td>False</td>\n",
       "      <td>False</td>\n",
       "      <td>False</td>\n",
       "      <td>False</td>\n",
       "      <td>False</td>\n",
       "      <td>False</td>\n",
       "      <td>False</td>\n",
       "      <td>False</td>\n",
       "    </tr>\n",
       "    <tr>\n",
       "      <th>3</th>\n",
       "      <td>2.0</td>\n",
       "      <td>1207.0</td>\n",
       "      <td>2.0</td>\n",
       "      <td>2.0</td>\n",
       "      <td>False</td>\n",
       "      <td>False</td>\n",
       "      <td>False</td>\n",
       "      <td>True</td>\n",
       "      <td>True</td>\n",
       "      <td>False</td>\n",
       "      <td>False</td>\n",
       "      <td>False</td>\n",
       "      <td>False</td>\n",
       "      <td>False</td>\n",
       "      <td>False</td>\n",
       "      <td>False</td>\n",
       "      <td>False</td>\n",
       "      <td>False</td>\n",
       "      <td>False</td>\n",
       "      <td>False</td>\n",
       "      <td>False</td>\n",
       "      <td>False</td>\n",
       "      <td>False</td>\n",
       "      <td>False</td>\n",
       "      <td>False</td>\n",
       "      <td>False</td>\n",
       "      <td>False</td>\n",
       "      <td>False</td>\n",
       "      <td>False</td>\n",
       "      <td>False</td>\n",
       "      <td>False</td>\n",
       "      <td>False</td>\n",
       "      <td>False</td>\n",
       "      <td>False</td>\n",
       "      <td>False</td>\n",
       "      <td>False</td>\n",
       "      <td>False</td>\n",
       "      <td>False</td>\n",
       "      <td>False</td>\n",
       "      <td>False</td>\n",
       "      <td>False</td>\n",
       "      <td>False</td>\n",
       "      <td>False</td>\n",
       "      <td>False</td>\n",
       "      <td>False</td>\n",
       "      <td>False</td>\n",
       "      <td>False</td>\n",
       "      <td>False</td>\n",
       "      <td>False</td>\n",
       "      <td>False</td>\n",
       "      <td>False</td>\n",
       "      <td>False</td>\n",
       "      <td>False</td>\n",
       "      <td>False</td>\n",
       "      <td>False</td>\n",
       "      <td>False</td>\n",
       "      <td>False</td>\n",
       "      <td>False</td>\n",
       "      <td>False</td>\n",
       "      <td>False</td>\n",
       "      <td>False</td>\n",
       "      <td>False</td>\n",
       "      <td>False</td>\n",
       "      <td>False</td>\n",
       "      <td>False</td>\n",
       "      <td>False</td>\n",
       "      <td>False</td>\n",
       "      <td>False</td>\n",
       "      <td>False</td>\n",
       "      <td>False</td>\n",
       "      <td>False</td>\n",
       "      <td>False</td>\n",
       "      <td>False</td>\n",
       "      <td>False</td>\n",
       "      <td>False</td>\n",
       "      <td>False</td>\n",
       "      <td>False</td>\n",
       "      <td>False</td>\n",
       "      <td>False</td>\n",
       "      <td>False</td>\n",
       "      <td>False</td>\n",
       "      <td>False</td>\n",
       "      <td>False</td>\n",
       "      <td>False</td>\n",
       "      <td>False</td>\n",
       "      <td>False</td>\n",
       "      <td>False</td>\n",
       "      <td>False</td>\n",
       "      <td>False</td>\n",
       "      <td>False</td>\n",
       "      <td>False</td>\n",
       "      <td>False</td>\n",
       "      <td>False</td>\n",
       "      <td>False</td>\n",
       "      <td>False</td>\n",
       "      <td>False</td>\n",
       "      <td>False</td>\n",
       "      <td>False</td>\n",
       "      <td>False</td>\n",
       "      <td>False</td>\n",
       "      <td>False</td>\n",
       "      <td>False</td>\n",
       "      <td>False</td>\n",
       "      <td>False</td>\n",
       "      <td>False</td>\n",
       "      <td>False</td>\n",
       "      <td>False</td>\n",
       "      <td>False</td>\n",
       "      <td>False</td>\n",
       "    </tr>\n",
       "    <tr>\n",
       "      <th>4</th>\n",
       "      <td>3.0</td>\n",
       "      <td>1725.0</td>\n",
       "      <td>2.0</td>\n",
       "      <td>2.0</td>\n",
       "      <td>True</td>\n",
       "      <td>False</td>\n",
       "      <td>False</td>\n",
       "      <td>False</td>\n",
       "      <td>True</td>\n",
       "      <td>False</td>\n",
       "      <td>False</td>\n",
       "      <td>False</td>\n",
       "      <td>False</td>\n",
       "      <td>False</td>\n",
       "      <td>False</td>\n",
       "      <td>False</td>\n",
       "      <td>False</td>\n",
       "      <td>False</td>\n",
       "      <td>False</td>\n",
       "      <td>False</td>\n",
       "      <td>False</td>\n",
       "      <td>False</td>\n",
       "      <td>False</td>\n",
       "      <td>False</td>\n",
       "      <td>False</td>\n",
       "      <td>False</td>\n",
       "      <td>False</td>\n",
       "      <td>False</td>\n",
       "      <td>False</td>\n",
       "      <td>False</td>\n",
       "      <td>False</td>\n",
       "      <td>False</td>\n",
       "      <td>False</td>\n",
       "      <td>False</td>\n",
       "      <td>False</td>\n",
       "      <td>False</td>\n",
       "      <td>False</td>\n",
       "      <td>False</td>\n",
       "      <td>False</td>\n",
       "      <td>False</td>\n",
       "      <td>False</td>\n",
       "      <td>False</td>\n",
       "      <td>False</td>\n",
       "      <td>False</td>\n",
       "      <td>False</td>\n",
       "      <td>False</td>\n",
       "      <td>False</td>\n",
       "      <td>False</td>\n",
       "      <td>False</td>\n",
       "      <td>False</td>\n",
       "      <td>False</td>\n",
       "      <td>False</td>\n",
       "      <td>False</td>\n",
       "      <td>False</td>\n",
       "      <td>False</td>\n",
       "      <td>False</td>\n",
       "      <td>False</td>\n",
       "      <td>False</td>\n",
       "      <td>False</td>\n",
       "      <td>False</td>\n",
       "      <td>False</td>\n",
       "      <td>False</td>\n",
       "      <td>False</td>\n",
       "      <td>False</td>\n",
       "      <td>False</td>\n",
       "      <td>False</td>\n",
       "      <td>False</td>\n",
       "      <td>False</td>\n",
       "      <td>False</td>\n",
       "      <td>False</td>\n",
       "      <td>False</td>\n",
       "      <td>False</td>\n",
       "      <td>False</td>\n",
       "      <td>False</td>\n",
       "      <td>False</td>\n",
       "      <td>False</td>\n",
       "      <td>False</td>\n",
       "      <td>False</td>\n",
       "      <td>False</td>\n",
       "      <td>False</td>\n",
       "      <td>False</td>\n",
       "      <td>False</td>\n",
       "      <td>False</td>\n",
       "      <td>False</td>\n",
       "      <td>False</td>\n",
       "      <td>False</td>\n",
       "      <td>False</td>\n",
       "      <td>False</td>\n",
       "      <td>False</td>\n",
       "      <td>False</td>\n",
       "      <td>False</td>\n",
       "      <td>False</td>\n",
       "      <td>False</td>\n",
       "      <td>False</td>\n",
       "      <td>False</td>\n",
       "      <td>False</td>\n",
       "      <td>False</td>\n",
       "      <td>False</td>\n",
       "      <td>False</td>\n",
       "      <td>False</td>\n",
       "      <td>False</td>\n",
       "      <td>False</td>\n",
       "      <td>False</td>\n",
       "      <td>False</td>\n",
       "      <td>False</td>\n",
       "      <td>False</td>\n",
       "      <td>False</td>\n",
       "      <td>False</td>\n",
       "      <td>False</td>\n",
       "    </tr>\n",
       "    <tr>\n",
       "      <th>6</th>\n",
       "      <td>3.0</td>\n",
       "      <td>1700.0</td>\n",
       "      <td>2.0</td>\n",
       "      <td>3.0</td>\n",
       "      <td>True</td>\n",
       "      <td>False</td>\n",
       "      <td>False</td>\n",
       "      <td>False</td>\n",
       "      <td>True</td>\n",
       "      <td>False</td>\n",
       "      <td>False</td>\n",
       "      <td>False</td>\n",
       "      <td>False</td>\n",
       "      <td>False</td>\n",
       "      <td>False</td>\n",
       "      <td>False</td>\n",
       "      <td>False</td>\n",
       "      <td>False</td>\n",
       "      <td>False</td>\n",
       "      <td>False</td>\n",
       "      <td>False</td>\n",
       "      <td>False</td>\n",
       "      <td>False</td>\n",
       "      <td>False</td>\n",
       "      <td>False</td>\n",
       "      <td>False</td>\n",
       "      <td>False</td>\n",
       "      <td>False</td>\n",
       "      <td>False</td>\n",
       "      <td>False</td>\n",
       "      <td>False</td>\n",
       "      <td>False</td>\n",
       "      <td>False</td>\n",
       "      <td>False</td>\n",
       "      <td>False</td>\n",
       "      <td>False</td>\n",
       "      <td>False</td>\n",
       "      <td>False</td>\n",
       "      <td>False</td>\n",
       "      <td>False</td>\n",
       "      <td>False</td>\n",
       "      <td>False</td>\n",
       "      <td>False</td>\n",
       "      <td>False</td>\n",
       "      <td>False</td>\n",
       "      <td>False</td>\n",
       "      <td>False</td>\n",
       "      <td>False</td>\n",
       "      <td>False</td>\n",
       "      <td>False</td>\n",
       "      <td>False</td>\n",
       "      <td>False</td>\n",
       "      <td>False</td>\n",
       "      <td>False</td>\n",
       "      <td>False</td>\n",
       "      <td>False</td>\n",
       "      <td>False</td>\n",
       "      <td>False</td>\n",
       "      <td>False</td>\n",
       "      <td>False</td>\n",
       "      <td>False</td>\n",
       "      <td>False</td>\n",
       "      <td>False</td>\n",
       "      <td>False</td>\n",
       "      <td>False</td>\n",
       "      <td>False</td>\n",
       "      <td>False</td>\n",
       "      <td>False</td>\n",
       "      <td>False</td>\n",
       "      <td>False</td>\n",
       "      <td>False</td>\n",
       "      <td>False</td>\n",
       "      <td>False</td>\n",
       "      <td>False</td>\n",
       "      <td>False</td>\n",
       "      <td>False</td>\n",
       "      <td>False</td>\n",
       "      <td>False</td>\n",
       "      <td>False</td>\n",
       "      <td>False</td>\n",
       "      <td>False</td>\n",
       "      <td>False</td>\n",
       "      <td>False</td>\n",
       "      <td>False</td>\n",
       "      <td>False</td>\n",
       "      <td>False</td>\n",
       "      <td>False</td>\n",
       "      <td>False</td>\n",
       "      <td>False</td>\n",
       "      <td>False</td>\n",
       "      <td>False</td>\n",
       "      <td>False</td>\n",
       "      <td>False</td>\n",
       "      <td>False</td>\n",
       "      <td>False</td>\n",
       "      <td>False</td>\n",
       "      <td>False</td>\n",
       "      <td>False</td>\n",
       "      <td>False</td>\n",
       "      <td>False</td>\n",
       "      <td>False</td>\n",
       "      <td>False</td>\n",
       "      <td>False</td>\n",
       "      <td>False</td>\n",
       "      <td>False</td>\n",
       "      <td>False</td>\n",
       "      <td>False</td>\n",
       "      <td>False</td>\n",
       "      <td>False</td>\n",
       "    </tr>\n",
       "  </tbody>\n",
       "</table>\n",
       "</div>"
      ],
      "text/plain": [
       "   size  total_sqft  bath  balcony  Built-up  Area  Carpet  Area  Plot  Area  \\\n",
       "0   2.0      1075.0   2.0      2.0           False         False       False   \n",
       "2   2.0      1256.0   2.0      1.0            True         False       False   \n",
       "3   2.0      1207.0   2.0      2.0           False         False       False   \n",
       "4   3.0      1725.0   2.0      2.0            True         False       False   \n",
       "6   3.0      1700.0   2.0      3.0            True         False       False   \n",
       "\n",
       "   Super built-up  Area  5th Phase JP Nagar  7th Phase JP Nagar  \\\n",
       "0                  True                True               False   \n",
       "2                 False                True               False   \n",
       "3                  True                True               False   \n",
       "4                 False                True               False   \n",
       "6                 False                True               False   \n",
       "\n",
       "   8th Phase JP Nagar  9th Phase JP Nagar  Akshaya Nagar  Ambedkar Nagar  \\\n",
       "0               False               False          False           False   \n",
       "2               False               False          False           False   \n",
       "3               False               False          False           False   \n",
       "4               False               False          False           False   \n",
       "6               False               False          False           False   \n",
       "\n",
       "   Ananth Nagar  Anekal  Attibele  Balagere  Banashankari  Bannerghatta Road  \\\n",
       "0         False   False     False     False         False              False   \n",
       "2         False   False     False     False         False              False   \n",
       "3         False   False     False     False         False              False   \n",
       "4         False   False     False     False         False              False   \n",
       "6         False   False     False     False         False              False   \n",
       "\n",
       "   Basavangudi  Begur Road  Bellandur  Bhoganhalli  Bisuvanahalli  \\\n",
       "0        False       False      False        False          False   \n",
       "2        False       False      False        False          False   \n",
       "3        False       False      False        False          False   \n",
       "4        False       False      False        False          False   \n",
       "6        False       False      False        False          False   \n",
       "\n",
       "   Bommanahalli  Bommasandra  Brookefield  Budigere  CV Raman Nagar  \\\n",
       "0         False        False        False     False           False   \n",
       "2         False        False        False     False           False   \n",
       "3         False        False        False     False           False   \n",
       "4         False        False        False     False           False   \n",
       "6         False        False        False     False           False   \n",
       "\n",
       "   Chandapura  Channasandra  Chikkalasandra  Devanahalli  Doddathoguru  \\\n",
       "0       False         False           False        False         False   \n",
       "2       False         False           False        False         False   \n",
       "3       False         False           False        False         False   \n",
       "4       False         False           False        False         False   \n",
       "6       False         False           False        False         False   \n",
       "\n",
       "   Electronic City  Electronic City Phase II  Electronics City Phase 1  \\\n",
       "0            False                     False                     False   \n",
       "2            False                     False                     False   \n",
       "3            False                     False                     False   \n",
       "4            False                     False                     False   \n",
       "6            False                     False                     False   \n",
       "\n",
       "   Frazer Town  Gottigere  Green Glen Layout  HSR Layout  Haralur Road  \\\n",
       "0        False      False              False       False         False   \n",
       "2        False      False              False       False         False   \n",
       "3        False      False              False       False         False   \n",
       "4        False      False              False       False         False   \n",
       "6        False      False              False       False         False   \n",
       "\n",
       "   Harlur  Hebbal  Hebbal Kempapura  Hegde Nagar  Hennur  Hennur Road  Hoodi  \\\n",
       "0   False   False             False        False   False        False  False   \n",
       "2   False   False             False        False   False        False  False   \n",
       "3   False   False             False        False   False        False  False   \n",
       "4   False   False             False        False   False        False  False   \n",
       "6   False   False             False        False   False        False  False   \n",
       "\n",
       "   Horamavu Agara  Hormavu  Hosa Road  Hosakerehalli  Hosur Road  Hulimavu  \\\n",
       "0           False    False      False          False       False     False   \n",
       "2           False    False      False          False       False     False   \n",
       "3           False    False      False          False       False     False   \n",
       "4           False    False      False          False       False     False   \n",
       "6           False    False      False          False       False     False   \n",
       "\n",
       "   Indira Nagar  JP Nagar  Jakkur  Jalahalli  Jigani  KR Puram  Kadugodi  \\\n",
       "0         False     False   False      False   False     False     False   \n",
       "2         False     False   False      False   False     False     False   \n",
       "3         False     False   False      False   False     False     False   \n",
       "4         False     False   False      False   False     False     False   \n",
       "6         False     False   False      False   False     False     False   \n",
       "\n",
       "   Kaggadasapura  Kalena Agrahara  Kanakapura  Kanakpura Road  Kasavanhalli  \\\n",
       "0          False            False       False           False         False   \n",
       "2          False            False       False           False         False   \n",
       "3          False            False       False           False         False   \n",
       "4          False            False       False           False         False   \n",
       "6          False            False       False           False         False   \n",
       "\n",
       "   Kengeri  Kengeri Satellite Town  Koramangala  Kothanur  Kudlu Gate  \\\n",
       "0    False                   False        False     False       False   \n",
       "2    False                   False        False     False       False   \n",
       "3    False                   False        False     False       False   \n",
       "4    False                   False        False     False       False   \n",
       "6    False                   False        False     False       False   \n",
       "\n",
       "   Kumaraswami Layout  Kundalahalli  Lakshminarayana Pura  Mahadevpura  \\\n",
       "0               False         False                 False        False   \n",
       "2               False         False                 False        False   \n",
       "3               False         False                 False        False   \n",
       "4               False         False                 False        False   \n",
       "6               False         False                 False        False   \n",
       "\n",
       "   Malleshwaram  Marathahalli  Mysore Road  Nagarbhavi  Old Airport Road  \\\n",
       "0         False         False        False       False             False   \n",
       "2         False         False        False       False             False   \n",
       "3         False         False        False       False             False   \n",
       "4         False         False        False       False             False   \n",
       "6         False         False        False       False             False   \n",
       "\n",
       "   Old Madras Road  Panathur  R.T. Nagar  Rachenahalli  Raja Rajeshwari Nagar  \\\n",
       "0            False     False       False         False                  False   \n",
       "2            False     False       False         False                  False   \n",
       "3            False     False       False         False                  False   \n",
       "4            False     False       False         False                  False   \n",
       "6            False     False       False         False                  False   \n",
       "\n",
       "   Rajaji Nagar  Ramagondanahalli  Ramamurthy Nagar  Sahakara Nagar  Sarjapur  \\\n",
       "0         False             False             False           False     False   \n",
       "2         False             False             False           False     False   \n",
       "3         False             False             False           False     False   \n",
       "4         False             False             False           False     False   \n",
       "6         False             False             False           False     False   \n",
       "\n",
       "   Sarjapur  Road  Subramanyapura  TC Palaya  Talaghattapura  Thanisandra  \\\n",
       "0           False           False      False           False        False   \n",
       "2           False           False      False           False        False   \n",
       "3           False           False      False           False        False   \n",
       "4           False           False      False           False        False   \n",
       "6           False           False      False           False        False   \n",
       "\n",
       "   Thigalarapalya  Tumkur Road  Uttarahalli  Varthur  Vidyaranyapura  \\\n",
       "0           False        False        False    False           False   \n",
       "2           False        False        False    False           False   \n",
       "3           False        False        False    False           False   \n",
       "4           False        False        False    False           False   \n",
       "6           False        False        False    False           False   \n",
       "\n",
       "   Vijayanagar  Vittasandra  Whitefield  Yelahanka  Yelahanka New Town  \\\n",
       "0        False        False       False      False               False   \n",
       "2        False        False       False      False               False   \n",
       "3        False        False       False      False               False   \n",
       "4        False        False       False      False               False   \n",
       "6        False        False       False      False               False   \n",
       "\n",
       "   Yeshwanthpur  other_loc  \n",
       "0         False      False  \n",
       "2         False      False  \n",
       "3         False      False  \n",
       "4         False      False  \n",
       "6         False      False  "
      ]
     },
     "execution_count": 64,
     "metadata": {},
     "output_type": "execute_result"
    }
   ],
   "source": [
    "#Model prediction\n",
    "X.head()"
   ]
  },
  {
   "cell_type": "code",
   "execution_count": 65,
   "metadata": {},
   "outputs": [
    {
     "data": {
      "text/plain": [
       "Index(['size', 'total_sqft', 'bath', 'balcony', 'Built-up  Area',\n",
       "       'Carpet  Area', 'Plot  Area', 'Super built-up  Area',\n",
       "       '5th Phase JP Nagar', '7th Phase JP Nagar',\n",
       "       ...\n",
       "       'Uttarahalli', 'Varthur', 'Vidyaranyapura', 'Vijayanagar',\n",
       "       'Vittasandra', 'Whitefield', 'Yelahanka', 'Yelahanka New Town',\n",
       "       'Yeshwanthpur', 'other_loc'],\n",
       "      dtype='object', length=109)"
      ]
     },
     "execution_count": 65,
     "metadata": {},
     "output_type": "execute_result"
    }
   ],
   "source": [
    "X.columns"
   ]
  },
  {
   "cell_type": "code",
   "execution_count": 66,
   "metadata": {},
   "outputs": [
    {
     "data": {
      "text/plain": [
       "Index(['size', 'total_sqft', 'bath', 'balcony', 'Built-up  Area',\n",
       "       'Carpet  Area', 'Plot  Area', 'Super built-up  Area',\n",
       "       '5th Phase JP Nagar', '7th Phase JP Nagar',\n",
       "       ...\n",
       "       'Uttarahalli', 'Varthur', 'Vidyaranyapura', 'Vijayanagar',\n",
       "       'Vittasandra', 'Whitefield', 'Yelahanka', 'Yelahanka New Town',\n",
       "       'Yeshwanthpur', 'other_loc'],\n",
       "      dtype='object', length=109)"
      ]
     },
     "execution_count": 66,
     "metadata": {},
     "output_type": "execute_result"
    }
   ],
   "source": [
    "X.columns = X.columns.str.strip()\n",
    "X.columns"
   ]
  },
  {
   "cell_type": "code",
   "execution_count": 67,
   "metadata": {},
   "outputs": [
    {
     "data": {
      "text/plain": [
       "6"
      ]
     },
     "execution_count": 67,
     "metadata": {},
     "output_type": "execute_result"
    }
   ],
   "source": [
    "np.where(X.columns == 'Plot  Area')[0][0]"
   ]
  },
  {
   "cell_type": "code",
   "execution_count": 68,
   "metadata": {},
   "outputs": [],
   "source": [
    "def predict_val(area_type , location, size, total_sqft, bath, balcony):\n",
    "    area_type_ind = np.where(X.columns == area_type)[0][0]\n",
    "    \n",
    "    if location not in locations_considered:\n",
    "        location = 'other_loc'\n",
    "    location_ind = np.where(X.columns == location)[0][0]\n",
    "    \n",
    "    data = np.zeros(len(X.columns))\n",
    "    data[0] = size\n",
    "    data[1] = total_sqft\n",
    "    data[2] = bath\n",
    "    data[3] = balcony\n",
    "    data[area_type_ind] = 1\n",
    "    data[location_ind] = 1\n",
    "    \n",
    "    return lr_clf.predict([data])[0]\n",
    "    "
   ]
  },
  {
   "cell_type": "code",
   "execution_count": 69,
   "metadata": {},
   "outputs": [
    {
     "name": "stderr",
     "output_type": "stream",
     "text": [
      "C:\\Users\\gedar\\AppData\\Local\\Programs\\Python\\Python312\\Lib\\site-packages\\sklearn\\base.py:493: UserWarning: X does not have valid feature names, but LinearRegression was fitted with feature names\n",
      "  warnings.warn(\n"
     ]
    },
    {
     "data": {
      "text/plain": [
       "67.90788173675537"
      ]
     },
     "execution_count": 69,
     "metadata": {},
     "output_type": "execute_result"
    }
   ],
   "source": [
    "predict_val('Built-up  Area','1st Phase JP Nagar',2,1000,2,2)"
   ]
  },
  {
   "cell_type": "code",
   "execution_count": 70,
   "metadata": {},
   "outputs": [
    {
     "name": "stderr",
     "output_type": "stream",
     "text": [
      "C:\\Users\\gedar\\AppData\\Local\\Programs\\Python\\Python312\\Lib\\site-packages\\sklearn\\base.py:493: UserWarning: X does not have valid feature names, but LinearRegression was fitted with feature names\n",
      "  warnings.warn(\n"
     ]
    },
    {
     "data": {
      "text/plain": [
       "194.13539028167725"
      ]
     },
     "execution_count": 70,
     "metadata": {},
     "output_type": "execute_result"
    }
   ],
   "source": [
    "predict_val('Built-up  Area','Indira Nagar',2,1000,2,2)"
   ]
  },
  {
   "cell_type": "code",
   "execution_count": 71,
   "metadata": {},
   "outputs": [
    {
     "name": "stderr",
     "output_type": "stream",
     "text": [
      "C:\\Users\\gedar\\AppData\\Local\\Programs\\Python\\Python312\\Lib\\site-packages\\sklearn\\base.py:493: UserWarning: X does not have valid feature names, but LinearRegression was fitted with feature names\n",
      "  warnings.warn(\n"
     ]
    },
    {
     "data": {
      "text/plain": [
       "272.1260814666748"
      ]
     },
     "execution_count": 71,
     "metadata": {},
     "output_type": "execute_result"
    }
   ],
   "source": [
    "predict_val('Built-up  Area','Indira Nagar',3,2000,2,2)"
   ]
  },
  {
   "cell_type": "code",
   "execution_count": 72,
   "metadata": {},
   "outputs": [
    {
     "name": "stderr",
     "output_type": "stream",
     "text": [
      "C:\\Users\\gedar\\AppData\\Local\\Programs\\Python\\Python312\\Lib\\site-packages\\sklearn\\base.py:493: UserWarning: X does not have valid feature names, but LinearRegression was fitted with feature names\n",
      "  warnings.warn(\n"
     ]
    },
    {
     "data": {
      "text/plain": [
       "274.4616537094116"
      ]
     },
     "execution_count": 72,
     "metadata": {},
     "output_type": "execute_result"
    }
   ],
   "source": [
    "predict_val('Super built-up  Area','Indira Nagar',3,2000,2,2)"
   ]
  },
  {
   "cell_type": "code",
   "execution_count": 73,
   "metadata": {},
   "outputs": [
    {
     "name": "stderr",
     "output_type": "stream",
     "text": [
      "C:\\Users\\gedar\\AppData\\Local\\Programs\\Python\\Python312\\Lib\\site-packages\\sklearn\\base.py:493: UserWarning: X does not have valid feature names, but LinearRegression was fitted with feature names\n",
      "  warnings.warn(\n"
     ]
    },
    {
     "data": {
      "text/plain": [
       "279.66998386383057"
      ]
     },
     "execution_count": 73,
     "metadata": {},
     "output_type": "execute_result"
    }
   ],
   "source": [
    "predict_val('Carpet  Area','Indira Nagar',3,2000,2,2)"
   ]
  },
  {
   "cell_type": "code",
   "execution_count": 74,
   "metadata": {},
   "outputs": [
    {
     "name": "stderr",
     "output_type": "stream",
     "text": [
      "C:\\Users\\gedar\\AppData\\Local\\Programs\\Python\\Python312\\Lib\\site-packages\\sklearn\\base.py:493: UserWarning: X does not have valid feature names, but LinearRegression was fitted with feature names\n",
      "  warnings.warn(\n"
     ]
    },
    {
     "data": {
      "text/plain": [
       "282.9906692504883"
      ]
     },
     "execution_count": 74,
     "metadata": {},
     "output_type": "execute_result"
    }
   ],
   "source": [
    "predict_val('Plot  Area','Indira Nagar',3,2000,2,2)"
   ]
  },
  {
   "cell_type": "code",
   "execution_count": 75,
   "metadata": {},
   "outputs": [],
   "source": [
    "#Export the tested model to a pickle file\n",
    "#This pickle file contains only the weight and co-efficients of linear regression and not the actual whole data\n",
    "#Thus its size is very less (3KB)\n",
    "import pickle\n",
    "with open('banglore_home_prices_model.pickle','wb') as f:\n",
    "    pickle.dump(lr_clf,f)"
   ]
  },
  {
   "cell_type": "code",
   "execution_count": 77,
   "metadata": {},
   "outputs": [],
   "source": [
    "#Export column information into json file\n",
    "import json\n",
    "columns = {\n",
    "    'data_columns' : [col.lower() for col in X.columns]\n",
    "}\n",
    "with open(\"columns.json\",\"w\") as f:\n",
    "    f.write(json.dumps(columns))"
   ]
  },
  {
   "cell_type": "markdown",
   "metadata": {},
   "source": [
    "Now this pickle file and json file will be used in Python flask server"
   ]
  }
 ],
 "metadata": {
  "kernelspec": {
   "display_name": "Python 3 (ipykernel)",
   "language": "python",
   "name": "python3"
  },
  "language_info": {
   "codemirror_mode": {
    "name": "ipython",
    "version": 3
   },
   "file_extension": ".py",
   "mimetype": "text/x-python",
   "name": "python",
   "nbconvert_exporter": "python",
   "pygments_lexer": "ipython3",
   "version": "3.12.3"
  }
 },
 "nbformat": 4,
 "nbformat_minor": 4
}
